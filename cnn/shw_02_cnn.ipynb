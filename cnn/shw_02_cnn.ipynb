{
  "cells": [
    {
      "cell_type": "markdown",
      "metadata": {
        "id": "w35Q6hOIy4sk"
      },
      "source": [
        "# Глубинное обучение 1 / Введение в глубинное обучение, ФКН ВШЭ\n",
        "\n",
        "## Домашнее задание 2: сверточный классификатор.\n",
        "\n",
        "### Общая информация\n",
        "\n",
        "Оценка после штрафа после мягкого дедлайна вычисляется по формуле $M_{\\text{penalty}} = M_{\\text{full}} \\cdot 0.85^{t/1440}$, где $M_{\\text{full}}$ — полная оценка за работу без учета штрафа, а $t$ — время в минутах, прошедшее после мягкого дедлайна (округление до двух цифр после запятой). Таким образом, спустя первые сутки после мягкого дедлайна вы не можете получить оценку выше 8.5, а если сдать через четыре дня после мягкого дедлайна, то ваш максимум — 5.22 балла.\n",
        "\n",
        "### Оценивание и штрафы\n",
        "\n",
        "Максимально допустимая оценка за работу — 10 баллов. Сдавать задание после указанного срока сдачи нельзя.\n",
        "\n",
        "Задание выполняется самостоятельно. «Похожие» решения считаются плагиатом и все задействованные студенты (в том числе те, у кого списали) не могут получить за него больше 0 баллов. Если вы нашли решение какого-то из заданий (или его часть) в открытом источнике, необходимо указать ссылку на этот источник в отдельном блоке в конце вашей работы (скорее всего вы будете не единственным, кто это нашел, поэтому чтобы исключить подозрение в плагиате, необходима ссылка на источник).\n",
        "\n",
        "Неэффективная реализация кода может негативно отразиться на оценке. Также оценка может быть снижена за плохо читаемый код и плохо оформленные графики. Все ответы должны сопровождаться кодом или комментариями о том, как они были получены.\n",
        "\n",
        "### О задании\n",
        "\n",
        "В этом задании вам предстоит познакомиться со сверточными сетями и их обучением для классификации изображений с использованием библиотеки PyTorch.\n"
      ]
    },
    {
      "cell_type": "code",
      "execution_count": 1,
      "metadata": {
        "id": "SaACifdX2QOo"
      },
      "outputs": [],
      "source": [
        "import torch\n",
        "import torch.nn as nn\n",
        "import torch.nn.functional as F\n",
        "import torch.optim as optim\n",
        "import torchvision\n",
        "import torchvision.transforms as transforms\n",
        "\n",
        "import matplotlib.pyplot as plt\n",
        "import numpy as np\n",
        "\n",
        "from sklearn.model_selection import train_test_split"
      ]
    },
    {
      "cell_type": "markdown",
      "metadata": {
        "id": "TIXaUYM-0JFl"
      },
      "source": [
        "## 0. Загрузка данных\n",
        "\n",
        "Работать мы будем с набором данных [CIFAR10](https://www.cs.toronto.edu/~kriz/cifar.html). CIFAR10 представляет собой набор изображений 32х32 пикселя, разделенных на 10 классов.\n",
        "\n",
        "![title](https://pytorch.org/tutorials/_images/cifar10.png)\n",
        "\n",
        "\n"
      ]
    },
    {
      "cell_type": "markdown",
      "metadata": {
        "id": "g-0EEjl_10vB"
      },
      "source": [
        "Набор данных уже определен в <code>torchvision.datasets</code>, так что возьмем его оттуда.\n",
        "\n"
      ]
    },
    {
      "cell_type": "code",
      "execution_count": 2,
      "metadata": {
        "id": "Cbwe92dT3aPZ"
      },
      "outputs": [],
      "source": [
        "def get_cifar10_data(batch_size, transform_train):\n",
        "    torch.manual_seed(0)\n",
        "    np.random.seed(0)\n",
        "\n",
        "    transform_test = transforms.Compose(\n",
        "        [transforms.ToTensor(),\n",
        "         # Переводим цвета пикселей в отрезок [-1, 1]\n",
        "         transforms.Normalize((0.5, 0.5, 0.5), (0.5, 0.5, 0.5))]\n",
        "    )\n",
        "\n",
        "    # Загружаем данные\n",
        "    trainvalset = torchvision.datasets.CIFAR10(root='./data', train=True,\n",
        "                                               download=True, transform=transform_train)\n",
        "    testset = torchvision.datasets.CIFAR10(root='./data', train=False,\n",
        "                                           download=True, transform=transform_test)\n",
        "\n",
        "    # В датасете определено разбиение только на train и test,\n",
        "    # так что валидацию дополнительно выделяем из обучающей выборки\n",
        "    train_idx, valid_idx = train_test_split(np.arange(len(trainvalset)), test_size=0.3,\n",
        "                                            shuffle=True, random_state=0)\n",
        "    trainset = torch.utils.data.Subset(trainvalset, train_idx)\n",
        "    valset = torch.utils.data.Subset(trainvalset, valid_idx)\n",
        "\n",
        "    train_loader = torch.utils.data.DataLoader(trainset, batch_size=batch_size,\n",
        "                                               shuffle=True, num_workers=2)\n",
        "    val_loader = torch.utils.data.DataLoader(valset, batch_size=batch_size,\n",
        "                                             shuffle=False, num_workers=2)\n",
        "    test_loader = torch.utils.data.DataLoader(testset, batch_size=batch_size,\n",
        "                                              shuffle=False, num_workers=2)\n",
        "\n",
        "    return train_loader, val_loader, test_loader\n"
      ]
    },
    {
      "cell_type": "code",
      "execution_count": 3,
      "metadata": {
        "colab": {
          "base_uri": "https://localhost:8080/"
        },
        "id": "2G2rLnN5y6Jj",
        "outputId": "9511cae2-000f-4cbb-9273-0983edd0af79"
      },
      "outputs": [
        {
          "output_type": "stream",
          "name": "stdout",
          "text": [
            "Downloading https://www.cs.toronto.edu/~kriz/cifar-10-python.tar.gz to ./data/cifar-10-python.tar.gz\n"
          ]
        },
        {
          "output_type": "stream",
          "name": "stderr",
          "text": [
            "100%|██████████| 170M/170M [00:13<00:00, 13.1MB/s]\n"
          ]
        },
        {
          "output_type": "stream",
          "name": "stdout",
          "text": [
            "Extracting ./data/cifar-10-python.tar.gz to ./data\n",
            "Files already downloaded and verified\n"
          ]
        }
      ],
      "source": [
        "transform = transforms.Compose(\n",
        "        [transforms.ToTensor(),\n",
        "         transforms.Normalize((0.5, 0.5, 0.5), (0.5, 0.5, 0.5))]\n",
        ")\n",
        "\n",
        "train_loader, val_loader, test_loader = get_cifar10_data(batch_size=64,\n",
        "                                                         transform_train=transform)"
      ]
    },
    {
      "cell_type": "markdown",
      "metadata": {
        "id": "-82HWgXs77W1"
      },
      "source": [
        "Посмотрим на изображения:"
      ]
    },
    {
      "cell_type": "code",
      "execution_count": 4,
      "metadata": {
        "colab": {
          "base_uri": "https://localhost:8080/",
          "height": 210
        },
        "id": "ACnwaC5iy6L2",
        "outputId": "c946d731-dc26-42b6-ebf9-aff1cafaabd3"
      },
      "outputs": [
        {
          "output_type": "display_data",
          "data": {
            "text/plain": [
              "<Figure size 640x480 with 1 Axes>"
            ],
            "image/png": "[encoded data removed]"
          },
          "metadata": {}
        },
        {
          "output_type": "stream",
          "name": "stdout",
          "text": [
            "ship frog horse horse\n"
          ]
        }
      ],
      "source": [
        "def imshow(img):\n",
        "    img = img / 2 + 0.5\n",
        "    npimg = img.numpy()\n",
        "    plt.imshow(np.transpose(npimg, (1, 2, 0)))\n",
        "    plt.show()\n",
        "\n",
        "\n",
        "dataiter = iter(train_loader)\n",
        "images, labels = next(dataiter)\n",
        "\n",
        "imshow(torchvision.utils.make_grid(images[:4]))\n",
        "\n",
        "classes = ('plane', 'car', 'bird', 'cat',\n",
        "           'deer', 'dog', 'frog', 'horse', 'ship', 'truck')\n",
        "print(*[classes[labels[i]] for i in range(4)])"
      ]
    },
    {
      "cell_type": "markdown",
      "metadata": {
        "id": "KFDilng29YZ_"
      },
      "source": [
        "## 1. Задание сверточной сети (3 балла)"
      ]
    },
    {
      "cell_type": "markdown",
      "metadata": {
        "id": "OX7Ul8YbYdQR"
      },
      "source": [
        "Теперь нам нужно задать сверточную нейронную сеть, которую мы будем обучать классифицировать изображения.\n",
        "\n",
        "Используем сеть, основанную на одном блоке архитектуры ResNet.\n",
        "\n",
        "<img src=\"https://i.ibb.co/2hg962h/basic-block.png\" width=\"500\"/>\n",
        "\n",
        "__Указания:__\n",
        "\n",
        "- Все сверточные слои должны иметь 32 выходных канала, а также не должны изменять ширину и высоту изображения.\n",
        "- Выход блока сократите до размерности 32х4х4, применив average pooling.\n",
        "- Для получения итоговых логитов, распрямите выход пулинга в вектор из 512 элементов, а затем пропустите его через линейный слой."
      ]
    },
    {
      "cell_type": "markdown",
      "metadata": {
        "id": "sbyIylT9O9Dr"
      },
      "source": [
        "**Задание 1.1 (3 балла).**\n",
        "\n",
        "Определите архитектуру сети соответственно схеме и указаниям выше.\n",
        "\n",
        "Ключевые слова: <code>Conv2d</code>, <code>BatchNorm2d</code>, <code>AvgPool2d</code>."
      ]
    },
    {
      "cell_type": "code",
      "execution_count": 5,
      "metadata": {
        "id": "s9ml1QGKy6N9"
      },
      "outputs": [],
      "source": [
        "n_classes = 10\n",
        "\n",
        "class BasicBlockNet(nn.Module):\n",
        "    def __init__(self):\n",
        "        super().__init__()\n",
        "\n",
        "        self.conv_1 = nn.Conv2d(in_channels=3, out_channels=32, kernel_size=3, padding='same')\n",
        "        self.bn_1 = nn.BatchNorm2d(num_features=32)\n",
        "        self.relu_1 = nn.ReLU()\n",
        "        self.conv_2 = nn.Conv2d(in_channels=32, out_channels=32, kernel_size=3, padding='same')\n",
        "        self.bn_2 = nn.BatchNorm2d(num_features=32)\n",
        "\n",
        "        self.conv_3 = nn.Conv2d(in_channels=3, out_channels=32, kernel_size=1)\n",
        "\n",
        "        self.relu_2 = nn.ReLU()\n",
        "        self.pooling = nn.AvgPool2d(8)\n",
        "        self.flatten = nn.Flatten(1)\n",
        "        self.linear = nn.Linear(in_features=512, out_features=n_classes)\n",
        "\n",
        "    def forward(self, x):\n",
        "        out = self.conv_1(x)\n",
        "        out = self.bn_1(out)\n",
        "        out = self.relu_1(out)\n",
        "        out = self.conv_2(out)\n",
        "        out = self.bn_2(out)\n",
        "\n",
        "        out = out + self.conv_3(x)\n",
        "\n",
        "        out = self.relu_2(out)\n",
        "        out = self.pooling(out)\n",
        "        out = self.flatten(out)\n",
        "        out = self.linear(out)\n",
        "\n",
        "        return out\n"
      ]
    },
    {
      "cell_type": "code",
      "execution_count": 6,
      "metadata": {
        "colab": {
          "base_uri": "https://localhost:8080/"
        },
        "id": "FI4BQg7Ky6Pw",
        "outputId": "99522402-ea80-44c0-d019-fb7db39c6d22"
      },
      "outputs": [
        {
          "output_type": "execute_result",
          "data": {
            "text/plain": [
              "BasicBlockNet(\n",
              "  (conv_1): Conv2d(3, 32, kernel_size=(3, 3), stride=(1, 1), padding=same)\n",
              "  (bn_1): BatchNorm2d(32, eps=1e-05, momentum=0.1, affine=True, track_running_stats=True)\n",
              "  (relu_1): ReLU()\n",
              "  (conv_2): Conv2d(32, 32, kernel_size=(3, 3), stride=(1, 1), padding=same)\n",
              "  (bn_2): BatchNorm2d(32, eps=1e-05, momentum=0.1, affine=True, track_running_stats=True)\n",
              "  (conv_3): Conv2d(3, 32, kernel_size=(1, 1), stride=(1, 1))\n",
              "  (relu_2): ReLU()\n",
              "  (pooling): AvgPool2d(kernel_size=8, stride=8, padding=0)\n",
              "  (flatten): Flatten(start_dim=1, end_dim=-1)\n",
              "  (linear): Linear(in_features=512, out_features=10, bias=True)\n",
              ")"
            ]
          },
          "metadata": {},
          "execution_count": 6
        }
      ],
      "source": [
        "net = BasicBlockNet()\n",
        "net"
      ]
    },
    {
      "cell_type": "markdown",
      "metadata": {
        "id": "igPoGZEub8d3"
      },
      "source": [
        "Проверим, что выход сети имеет корректную размерность:"
      ]
    },
    {
      "cell_type": "code",
      "execution_count": 7,
      "metadata": {
        "id": "cCIzFUpJ_Agw"
      },
      "outputs": [],
      "source": [
        "assert net(torch.zeros((10, 3, 32, 32))).shape == (10, 10)"
      ]
    },
    {
      "cell_type": "markdown",
      "metadata": {
        "id": "08osX622cDGz"
      },
      "source": [
        "Чтобы проводить вычисления на GPU, в PyTorch необходимо руками перекладывать объекты, с которыми вы хотите проводить вычисления, на графический ускоритель. Это делается следующим образрм:"
      ]
    },
    {
      "cell_type": "code",
      "execution_count": 8,
      "metadata": {
        "colab": {
          "base_uri": "https://localhost:8080/"
        },
        "id": "56hDOMCFcDZX",
        "outputId": "65f2691d-b6bf-42b7-a855-8e8688d87527"
      },
      "outputs": [
        {
          "output_type": "stream",
          "name": "stdout",
          "text": [
            "cuda:0\n"
          ]
        }
      ],
      "source": [
        "device = torch.device('cuda:0' if torch.cuda.is_available() else 'cpu')\n",
        "print(device)"
      ]
    },
    {
      "cell_type": "code",
      "execution_count": 9,
      "metadata": {
        "id": "ohnDWbp0qbtC"
      },
      "outputs": [],
      "source": [
        "net = net.to(device)"
      ]
    },
    {
      "cell_type": "markdown",
      "metadata": {
        "id": "H_bOlTVUp5QF"
      },
      "source": [
        "Подключение GPU в google.colab:\n",
        "\n",
        "**Среда выполнения** -> **Сменить среду выполнения** -> **Аппаратный ускоритель** -> **GPU**"
      ]
    },
    {
      "cell_type": "markdown",
      "metadata": {
        "id": "AGi6XX_7_Bgg"
      },
      "source": [
        "## 2. Обучение и тестирование модели (3 балла)"
      ]
    },
    {
      "cell_type": "markdown",
      "metadata": {
        "id": "0agj_MQoO9Ds"
      },
      "source": [
        "**Задание 2.1 (2 балла).** Переходим к обучению модели. Заполните пропуски в функциях <code>test</code> и <code>train_epoch</code>. В качестве функции потерь будем использовать [кросс-энтропию](https://pytorch.org/docs/stable/generated/torch.nn.functional.cross_entropy.html), а в качестве метрики качества accuracy."
      ]
    },
    {
      "cell_type": "code",
      "execution_count": 10,
      "metadata": {
        "id": "QGCfm-Lyej4Y"
      },
      "outputs": [],
      "source": [
        "import wandb"
      ]
    },
    {
      "cell_type": "code",
      "execution_count": 11,
      "metadata": {
        "colab": {
          "base_uri": "https://localhost:8080/",
          "height": 136
        },
        "id": "YafHTfSxeaqR",
        "outputId": "4f20b403-4b5f-41c7-b5c3-8ec1741a4cc2"
      },
      "outputs": [
        {
          "output_type": "stream",
          "name": "stderr",
          "text": [
            "\u001b[34m\u001b[1mwandb\u001b[0m: Using wandb-core as the SDK backend.  Please refer to https://wandb.me/wandb-core for more information.\n"
          ]
        },
        {
          "output_type": "display_data",
          "data": {
            "text/plain": [
              "<IPython.core.display.Javascript object>"
            ],
            "application/javascript": [
              "\n",
              "        window._wandbApiKey = new Promise((resolve, reject) => {\n",
              "            function loadScript(url) {\n",
              "            return new Promise(function(resolve, reject) {\n",
              "                let newScript = document.createElement(\"script\");\n",
              "                newScript.onerror = reject;\n",
              "                newScript.onload = resolve;\n",
              "                document.body.appendChild(newScript);\n",
              "                newScript.src = url;\n",
              "            });\n",
              "            }\n",
              "            loadScript(\"https://cdn.jsdelivr.net/npm/postmate/build/postmate.min.js\").then(() => {\n",
              "            const iframe = document.createElement('iframe')\n",
              "            iframe.style.cssText = \"width:0;height:0;border:none\"\n",
              "            document.body.appendChild(iframe)\n",
              "            const handshake = new Postmate({\n",
              "                container: iframe,\n",
              "                url: 'https://wandb.ai/authorize'\n",
              "            });\n",
              "            const timeout = setTimeout(() => reject(\"Couldn't auto authenticate\"), 5000)\n",
              "            handshake.then(function(child) {\n",
              "                child.on('authorize', data => {\n",
              "                    clearTimeout(timeout)\n",
              "                    resolve(data)\n",
              "                });\n",
              "            });\n",
              "            })\n",
              "        });\n",
              "    "
            ]
          },
          "metadata": {}
        },
        {
          "output_type": "stream",
          "name": "stderr",
          "text": [
            "\u001b[34m\u001b[1mwandb\u001b[0m: Logging into wandb.ai. (Learn how to deploy a W&B server locally: https://wandb.me/wandb-server)\n",
            "\u001b[34m\u001b[1mwandb\u001b[0m: You can find your API key in your browser here: https://wandb.ai/authorize\n",
            "wandb: Paste an API key from your profile and hit enter, or press ctrl+c to quit:"
          ]
        },
        {
          "name": "stdout",
          "output_type": "stream",
          "text": [
            " ··········\n"
          ]
        },
        {
          "output_type": "stream",
          "name": "stderr",
          "text": [
            "\u001b[34m\u001b[1mwandb\u001b[0m: Appending key for api.wandb.ai to your netrc file: /root/.netrc\n"
          ]
        },
        {
          "output_type": "execute_result",
          "data": {
            "text/plain": [
              "True"
            ]
          },
          "metadata": {},
          "execution_count": 11
        }
      ],
      "source": [
        "wandb.login()"
      ]
    },
    {
      "cell_type": "code",
      "execution_count": 12,
      "metadata": {
        "colab": {
          "base_uri": "https://localhost:8080/",
          "height": 119
        },
        "id": "nbQSn9fceOvQ",
        "outputId": "a1e8fa93-2d08-47b1-84d5-2d45887de4b4"
      },
      "outputs": [
        {
          "output_type": "stream",
          "name": "stderr",
          "text": [
            "\u001b[34m\u001b[1mwandb\u001b[0m: Currently logged in as: \u001b[33mverabuylova\u001b[0m (\u001b[33mverabuylova-nes\u001b[0m). Use \u001b[1m`wandb login --relogin`\u001b[0m to force relogin\n"
          ]
        },
        {
          "output_type": "display_data",
          "data": {
            "text/plain": [
              "<IPython.core.display.HTML object>"
            ],
            "text/html": [
              "Tracking run with wandb version 0.18.7"
            ]
          },
          "metadata": {}
        },
        {
          "output_type": "display_data",
          "data": {
            "text/plain": [
              "<IPython.core.display.HTML object>"
            ],
            "text/html": [
              "Run data is saved locally in <code>/content/wandb/run-20241119_163136-fql6t7x9</code>"
            ]
          },
          "metadata": {}
        },
        {
          "output_type": "display_data",
          "data": {
            "text/plain": [
              "<IPython.core.display.HTML object>"
            ],
            "text/html": [
              "Syncing run <strong><a href='https://wandb.ai/verabuylova-nes/dl1_hw2/runs/fql6t7x9' target=\"_blank\">sgd</a></strong> to <a href='https://wandb.ai/verabuylova-nes/dl1_hw2' target=\"_blank\">Weights & Biases</a> (<a href='https://wandb.me/developer-guide' target=\"_blank\">docs</a>)<br/>"
            ]
          },
          "metadata": {}
        },
        {
          "output_type": "display_data",
          "data": {
            "text/plain": [
              "<IPython.core.display.HTML object>"
            ],
            "text/html": [
              " View project at <a href='https://wandb.ai/verabuylova-nes/dl1_hw2' target=\"_blank\">https://wandb.ai/verabuylova-nes/dl1_hw2</a>"
            ]
          },
          "metadata": {}
        },
        {
          "output_type": "display_data",
          "data": {
            "text/plain": [
              "<IPython.core.display.HTML object>"
            ],
            "text/html": [
              " View run at <a href='https://wandb.ai/verabuylova-nes/dl1_hw2/runs/fql6t7x9' target=\"_blank\">https://wandb.ai/verabuylova-nes/dl1_hw2/runs/fql6t7x9</a>"
            ]
          },
          "metadata": {}
        }
      ],
      "source": [
        "wandb.init(project=\"dl1_hw2\", config={\"epochs\": 20}, name='sgd')\n",
        "\n",
        "def test(model, loader):\n",
        "    loss_log = []\n",
        "    acc_log = []\n",
        "    model.eval()\n",
        "\n",
        "    for data, target in loader:\n",
        "        with torch.no_grad():\n",
        "            data, target = data.to(device), target.to(device)\n",
        "            output = model(data)\n",
        "\n",
        "            loss = F.cross_entropy(output, target)\n",
        "            loss_log.append(loss.item())\n",
        "\n",
        "            pred = output.argmax(dim=1)\n",
        "            acc = (pred == target).float().mean()\n",
        "            acc_log.append(acc.item())\n",
        "\n",
        "    return np.mean(loss_log), np.mean(acc_log)\n",
        "\n",
        "def train_epoch(model, optimizer, train_loader):\n",
        "    loss_log = []\n",
        "    acc_log = []\n",
        "    model.train()\n",
        "\n",
        "    for data, target in train_loader:\n",
        "        data, target = data.to(device), target.to(device)\n",
        "\n",
        "        optimizer.zero_grad()\n",
        "        output = model(data)\n",
        "        loss = F.cross_entropy(output, target)\n",
        "        loss.backward()\n",
        "        optimizer.step()\n",
        "\n",
        "        loss_log.append(loss.item())\n",
        "\n",
        "        pred = output.argmax(dim=1)\n",
        "        acc = (pred == target).float().mean()\n",
        "        acc_log.append(acc.item())\n",
        "\n",
        "    return loss_log, acc_log\n",
        "\n",
        "def train(model, optimizer, n_epochs, train_loader, val_loader, scheduler=None):\n",
        "    train_loss_log, train_acc_log, val_loss_log, val_acc_log = [], [], [], []\n",
        "\n",
        "    for epoch in range(n_epochs):\n",
        "        train_loss, train_acc = train_epoch(model, optimizer, train_loader)\n",
        "        val_loss, val_acc = test(model, val_loader)\n",
        "\n",
        "        train_loss_log.extend(train_loss)\n",
        "        train_acc_log.extend(train_acc)\n",
        "\n",
        "        val_loss_log.append(val_loss)\n",
        "        val_acc_log.append(val_acc)\n",
        "\n",
        "        wandb.log({\n",
        "            \"epoch\": epoch,\n",
        "            \"train_loss\": np.mean(train_loss),\n",
        "            \"train_accuracy\": np.mean(train_acc),\n",
        "            \"val_loss\": val_loss,\n",
        "            \"val_accuracy\": val_acc\n",
        "        })\n",
        "\n",
        "        print(f\"Epoch {epoch}\")\n",
        "        print(f\" train loss: {np.mean(train_loss)}, train acc: {np.mean(train_acc)}\")\n",
        "        print(f\" val loss: {val_loss}, val acc: {val_acc}\\n\")\n",
        "\n",
        "        if scheduler is not None:\n",
        "            scheduler.step()\n",
        "\n",
        "    return train_loss_log, train_acc_log, val_loss_log, val_acc_log\n"
      ]
    },
    {
      "cell_type": "markdown",
      "metadata": {
        "id": "iSOqk_CAO9Dt"
      },
      "source": [
        "Запустим обучение модели. В качестве оптимизатора будем использовать стохастический градиентный спуск, который является де-факто стандартом в задачах компьютерного зрения (наравне с <code>Adam</code>).\n",
        "\n",
        "__Замечание:__ Для достижения наилучшего качества в нашем случае потребуется обучать модель несколько сотен эпох. Однако в целях экономии вашего времени и сил, во всех экспериментах мы ограничимся 20 эпохами."
      ]
    },
    {
      "cell_type": "code",
      "execution_count": null,
      "metadata": {
        "colab": {
          "base_uri": "https://localhost:8080/"
        },
        "id": "MKZBGhuAgMDu",
        "outputId": "33948f79-4fe5-4a77-a76e-0a20021e8529",
        "scrolled": true
      },
      "outputs": [
        {
          "name": "stdout",
          "output_type": "stream",
          "text": [
            "Epoch 0\n",
            " train loss: 0.8799638133598202, train acc: 0.6937026639743087\n",
            " val loss: 0.982918865883604, val acc: 0.6635416667512123\n",
            "\n",
            "Epoch 1\n",
            " train loss: 0.8660852675355113, train acc: 0.6995054192473291\n",
            " val loss: 0.9835138186495355, val acc: 0.6666445037151905\n",
            "\n",
            "Epoch 2\n",
            " train loss: 0.8545110966649309, train acc: 0.7021537935276136\n",
            " val loss: 0.9280284252572567, val acc: 0.677437943346957\n",
            "\n",
            "Epoch 3\n",
            " train loss: 0.842328286585032, train acc: 0.7069404544734432\n",
            " val loss: 0.884249860682386, val acc: 0.6985150710065314\n",
            "\n",
            "Epoch 4\n",
            " train loss: 0.822579243991667, train acc: 0.7147631562388139\n",
            " val loss: 0.9483350350501689, val acc: 0.6722296100981692\n",
            "\n",
            "Epoch 5\n",
            " train loss: 0.8107182963238774, train acc: 0.7180195547762911\n",
            " val loss: 0.8971758596440579, val acc: 0.6926196808510638\n",
            "\n",
            "Epoch 6\n",
            " train loss: 0.8027101237006772, train acc: 0.7215983285764453\n",
            " val loss: 0.9107969134411913, val acc: 0.684906914893617\n",
            "\n",
            "Epoch 7\n",
            " train loss: 0.7892226765317063, train acc: 0.7265359754972092\n",
            " val loss: 0.8994889832557516, val acc: 0.6925975178150421\n",
            "\n",
            "Epoch 8\n",
            " train loss: 0.7832485233625939, train acc: 0.7301229107750399\n",
            " val loss: 0.9412113874516589, val acc: 0.6779476952045522\n",
            "\n",
            "Epoch 9\n",
            " train loss: 0.7783783704750716, train acc: 0.7299556020626856\n",
            " val loss: 0.9207381020201013, val acc: 0.6890292553191489\n",
            "\n",
            "Epoch 10\n",
            " train loss: 0.7626229834621959, train acc: 0.7354931118719321\n",
            " val loss: 0.8676355389838523, val acc: 0.7059175531914894\n",
            "\n",
            "Epoch 11\n",
            " train loss: 0.7550137868964912, train acc: 0.7390229172418933\n",
            " val loss: 0.8730346471705335, val acc: 0.7032136526513607\n",
            "\n",
            "Epoch 12\n",
            " train loss: 0.7487828027068806, train acc: 0.7412346566616944\n",
            " val loss: 0.8732530157616798, val acc: 0.7043218085106383\n",
            "\n",
            "Epoch 13\n",
            " train loss: 0.741505416753741, train acc: 0.7424139789079182\n",
            " val loss: 0.8517842240790103, val acc: 0.7135859930768926\n",
            "\n",
            "Epoch 14\n",
            " train loss: 0.7388309039298098, train acc: 0.7442543745258826\n",
            " val loss: 0.8429889090517734, val acc: 0.7173758866939138\n",
            "\n",
            "Epoch 15\n",
            " train loss: 0.7330109752183422, train acc: 0.7483065095636483\n",
            " val loss: 0.9028429088440347, val acc: 0.698692376055616\n",
            "\n",
            "Epoch 16\n",
            " train loss: 0.7253525706597177, train acc: 0.7498326913966121\n",
            " val loss: 0.8925698520021236, val acc: 0.6936835106382979\n",
            "\n",
            "Epoch 17\n",
            " train loss: 0.7171366445216226, train acc: 0.7532237529536706\n",
            " val loss: 0.826296269513191, val acc: 0.7206117021276596\n",
            "\n",
            "Epoch 18\n",
            " train loss: 0.7136893101322586, train acc: 0.7527667145624457\n",
            " val loss: 0.8704357252476064, val acc: 0.7067154255319149\n",
            "\n",
            "Epoch 19\n",
            " train loss: 0.7156399560911781, train acc: 0.7506937190645138\n",
            " val loss: 0.8570582091808319, val acc: 0.7157801420130628\n",
            "\n"
          ]
        }
      ],
      "source": [
        "optimizer = optim.SGD(net.parameters(), lr=0.1, momentum=0.9)\n",
        "train_loss_log, train_acc_log, val_loss_log, val_acc_log = train(net, optimizer, 20, train_loader, val_loader)"
      ]
    },
    {
      "cell_type": "markdown",
      "metadata": {
        "id": "gUb1jQW8O9Dt"
      },
      "source": [
        "Посчитайте точность на тестовой выборке:"
      ]
    },
    {
      "cell_type": "code",
      "execution_count": null,
      "metadata": {
        "colab": {
          "base_uri": "https://localhost:8080/"
        },
        "id": "xEg91b4zfG76",
        "outputId": "def77865-96af-4a58-e4a9-080ef4acccca"
      },
      "outputs": [
        {
          "name": "stdout",
          "output_type": "stream",
          "text": [
            "0.7037221337579618\n"
          ]
        }
      ],
      "source": [
        "_, acc = test(net, test_loader)\n",
        "print(np.mean(acc))"
      ]
    },
    {
      "cell_type": "markdown",
      "metadata": {
        "id": "zM38Q9fwO9Dt"
      },
      "source": [
        "Если вы все сделали правильно, у вас должна была получиться точность $\\ge 67\\%$."
      ]
    },
    {
      "cell_type": "markdown",
      "metadata": {
        "id": "DHFNSKcoO9Dt"
      },
      "source": [
        "**Задание 2.2 (1 балл).** Постройте графики зависимости функции потерь и точности классификации от номера шага оптимизатора. На каждом графике расположите данные и для обучающей и для валидационной выборки, итого у вас должно получиться два графика. Обратите внимание, что на обучающей выборке эти данные считаются по каждому батчу, на валидационной же они считаются по всей выборке раз в эпоху."
      ]
    },
    {
      "cell_type": "code",
      "execution_count": null,
      "metadata": {
        "id": "LzIP0tGLO9Dt"
      },
      "outputs": [],
      "source": [
        "import matplotlib.pyplot as plt"
      ]
    },
    {
      "cell_type": "code",
      "execution_count": null,
      "metadata": {
        "colab": {
          "base_uri": "https://localhost:8080/",
          "height": 369
        },
        "id": "BYUOfGokteCo",
        "outputId": "f2e01518-d29b-49da-aefd-d7f573ff916e"
      },
      "outputs": [
        {
          "data": {
            "image/png": "[encoded data removed]",
            "text/plain": [
              "<Figure size 2000x600 with 2 Axes>"
            ]
          },
          "metadata": {},
          "output_type": "display_data"
        }
      ],
      "source": [
        "plt.figure(figsize=(20, 6))\n",
        "\n",
        "plt.subplot(1, 2, 1)\n",
        "plt.plot(range(len(train_loss_log)), train_loss_log, color='lightpink', label='Train Loss')\n",
        "plt.plot(\n",
        "    range(0, len(train_loss_log), len(train_loss_log) // len(val_loss_log)),\n",
        "    val_loss_log, color='hotpink', label='Val Loss'\n",
        ")\n",
        "plt.xlabel('Step')\n",
        "plt.title('Loss')\n",
        "plt.legend()\n",
        "\n",
        "\n",
        "plt.subplot(1, 2, 2)\n",
        "plt.plot(range(len(train_acc_log)), train_acc_log, color='lightpink', label='Train Acc')\n",
        "plt.plot(\n",
        "    range(0, len(train_acc_log), len(train_acc_log) // len(val_acc_log)),\n",
        "    val_acc_log, color='hotpink', label='Val Acc'\n",
        ")\n",
        "plt.xlabel('Step')\n",
        "plt.title('Accuracy')\n",
        "plt.legend()\n",
        "\n",
        "plt.show()\n"
      ]
    },
    {
      "cell_type": "markdown",
      "metadata": {
        "id": "_ttOJPj-O9Dt"
      },
      "source": [
        "## 3. Расписание длины шага (2 балла)"
      ]
    },
    {
      "cell_type": "markdown",
      "metadata": {
        "id": "qiz3JstuO9Dt"
      },
      "source": [
        "С курса \"Машинное обучение 1\" вы уже должны знать, что сходимость стохастического градиентного спуска мы можем теоретически гарантировать только если будем определенным образом со временем уменьшать длину шага. На практике при обучении нейронных сетей такая техника оказывается очень полезной, однако теоретически обоснованными способами уменьшения длины шага фантазия не ограничивается.\n",
        "\n",
        "Одним из простейших способов является кусочно постоянная функция: на нескольких фиксированных эпохах уменьшаем длину шага в константу раз."
      ]
    },
    {
      "cell_type": "code",
      "execution_count": null,
      "metadata": {
        "colab": {
          "base_uri": "https://localhost:8080/",
          "height": 423
        },
        "id": "Rjqpz-AYvx-0",
        "outputId": "4026b410-f353-480f-b24e-f9e5d338a401"
      },
      "outputs": [
        {
          "data": {
            "text/html": [
              "Finishing last run (ID:hvjzboxj) before initializing another..."
            ],
            "text/plain": [
              "<IPython.core.display.HTML object>"
            ]
          },
          "metadata": {},
          "output_type": "display_data"
        },
        {
          "data": {
            "text/html": [
              "\n",
              "    <style>\n",
              "        .wandb-row {\n",
              "            display: flex;\n",
              "            flex-direction: row;\n",
              "            flex-wrap: wrap;\n",
              "            justify-content: flex-start;\n",
              "            width: 100%;\n",
              "        }\n",
              "        .wandb-col {\n",
              "            display: flex;\n",
              "            flex-direction: column;\n",
              "            flex-basis: 100%;\n",
              "            flex: 1;\n",
              "            padding: 10px;\n",
              "        }\n",
              "    </style>\n",
              "<div class=\"wandb-row\"><div class=\"wandb-col\"><h3>Run history:</h3><br/><table class=\"wandb\"><tr><td>epoch</td><td>▁▁▂▂▂▃▃▄▄▄▅▅▅▆▆▇▇▇██</td></tr><tr><td>train_accuracy</td><td>▁▂▂▃▃▄▄▅▅▅▆▆▇▇▇▇████</td></tr><tr><td>train_loss</td><td>█▇▇▆▆▅▅▄▄▄▃▃▂▂▂▂▁▁▁▁</td></tr><tr><td>val_accuracy</td><td>▁▁▃▅▂▅▄▅▃▄▆▆▆▇█▅▅█▆▇</td></tr><tr><td>val_loss</td><td>██▆▄▆▄▅▄▆▅▃▃▃▂▂▄▄▁▃▂</td></tr></table><br/></div><div class=\"wandb-col\"><h3>Run summary:</h3><br/><table class=\"wandb\"><tr><td>epoch</td><td>19</td></tr><tr><td>train_accuracy</td><td>0.75069</td></tr><tr><td>train_loss</td><td>0.71564</td></tr><tr><td>val_accuracy</td><td>0.71578</td></tr><tr><td>val_loss</td><td>0.85706</td></tr></table><br/></div></div>"
            ],
            "text/plain": [
              "<IPython.core.display.HTML object>"
            ]
          },
          "metadata": {},
          "output_type": "display_data"
        },
        {
          "data": {
            "text/html": [
              " View run <strong style=\"color:#cdcd00\">sgd</strong> at: <a href='https://wandb.ai/verabuylova-nes/dl1_hw2/runs/hvjzboxj' target=\"_blank\">https://wandb.ai/verabuylova-nes/dl1_hw2/runs/hvjzboxj</a><br/> View project at: <a href='https://wandb.ai/verabuylova-nes/dl1_hw2' target=\"_blank\">https://wandb.ai/verabuylova-nes/dl1_hw2</a><br/>Synced 5 W&B file(s), 0 media file(s), 0 artifact file(s) and 0 other file(s)"
            ],
            "text/plain": [
              "<IPython.core.display.HTML object>"
            ]
          },
          "metadata": {},
          "output_type": "display_data"
        },
        {
          "data": {
            "text/html": [
              "Find logs at: <code>./wandb/run-20241117_200937-hvjzboxj/logs</code>"
            ],
            "text/plain": [
              "<IPython.core.display.HTML object>"
            ]
          },
          "metadata": {},
          "output_type": "display_data"
        },
        {
          "data": {
            "text/html": [
              "Successfully finished last run (ID:hvjzboxj). Initializing new run:<br/>"
            ],
            "text/plain": [
              "<IPython.core.display.HTML object>"
            ]
          },
          "metadata": {},
          "output_type": "display_data"
        },
        {
          "data": {
            "text/html": [
              "Tracking run with wandb version 0.18.6"
            ],
            "text/plain": [
              "<IPython.core.display.HTML object>"
            ]
          },
          "metadata": {},
          "output_type": "display_data"
        },
        {
          "data": {
            "text/html": [
              "Run data is saved locally in <code>/content/wandb/run-20241117_201513-bl6mcicd</code>"
            ],
            "text/plain": [
              "<IPython.core.display.HTML object>"
            ]
          },
          "metadata": {},
          "output_type": "display_data"
        },
        {
          "data": {
            "text/html": [
              "Syncing run <strong><a href='https://wandb.ai/verabuylova-nes/dl1_hw2/runs/bl6mcicd' target=\"_blank\">sgd_const_decrease</a></strong> to <a href='https://wandb.ai/verabuylova-nes/dl1_hw2' target=\"_blank\">Weights & Biases</a> (<a href='https://wandb.me/developer-guide' target=\"_blank\">docs</a>)<br/>"
            ],
            "text/plain": [
              "<IPython.core.display.HTML object>"
            ]
          },
          "metadata": {},
          "output_type": "display_data"
        },
        {
          "data": {
            "text/html": [
              " View project at <a href='https://wandb.ai/verabuylova-nes/dl1_hw2' target=\"_blank\">https://wandb.ai/verabuylova-nes/dl1_hw2</a>"
            ],
            "text/plain": [
              "<IPython.core.display.HTML object>"
            ]
          },
          "metadata": {},
          "output_type": "display_data"
        },
        {
          "data": {
            "text/html": [
              " View run at <a href='https://wandb.ai/verabuylova-nes/dl1_hw2/runs/bl6mcicd' target=\"_blank\">https://wandb.ai/verabuylova-nes/dl1_hw2/runs/bl6mcicd</a>"
            ],
            "text/plain": [
              "<IPython.core.display.HTML object>"
            ]
          },
          "metadata": {},
          "output_type": "display_data"
        },
        {
          "data": {
            "text/html": [
              "<button onClick=\"this.nextSibling.style.display='block';this.style.display='none';\">Display W&B run</button><iframe src='https://wandb.ai/verabuylova-nes/dl1_hw2/runs/bl6mcicd?jupyter=true' style='border:none;width:100%;height:420px;display:none;'></iframe>"
            ],
            "text/plain": [
              "<wandb.sdk.wandb_run.Run at 0x7b55ce292a70>"
            ]
          },
          "execution_count": 107,
          "metadata": {},
          "output_type": "execute_result"
        }
      ],
      "source": [
        "wandb.init(project=\"dl1_hw2\", config={\"epochs\": 20}, name='sgd_const_decrease')"
      ]
    },
    {
      "cell_type": "code",
      "execution_count": null,
      "metadata": {
        "colab": {
          "background_save": true,
          "base_uri": "https://localhost:8080/"
        },
        "id": "V2Z0OT3nO9Du",
        "outputId": "a8528998-8315-4afd-f9ab-03b70db2602f"
      },
      "outputs": [
        {
          "name": "stdout",
          "output_type": "stream",
          "text": [
            "Epoch 0\n",
            " train loss: 1.4915373259968034, train acc: 0.4658322995715865\n",
            " val loss: 1.2374067352173177, val acc: 0.5656914893617021\n",
            "\n",
            "Epoch 1\n",
            " train loss: 1.1649961473736945, train acc: 0.5931011687902907\n",
            " val loss: 1.1021113809118879, val acc: 0.6204565603682335\n",
            "\n",
            "Epoch 2\n",
            " train loss: 1.0487810771033794, train acc: 0.6373808436245544\n",
            " val loss: 1.025116853257443, val acc: 0.6459884752618505\n",
            "\n",
            "Epoch 3\n",
            " train loss: 0.9908633603692273, train acc: 0.656560133209612\n",
            " val loss: 0.9797894749235599, val acc: 0.6596852837724888\n",
            "\n",
            "Epoch 4\n",
            " train loss: 0.9466448060119392, train acc: 0.6689164926190699\n",
            " val loss: 1.1860698088686517, val acc: 0.604720744680851\n",
            "\n",
            "Epoch 5\n",
            " train loss: 0.9228250803851559, train acc: 0.6784653304045989\n",
            " val loss: 1.0203835292065397, val acc: 0.6470079787234042\n",
            "\n",
            "Epoch 6\n",
            " train loss: 0.8950826127960652, train acc: 0.6896178833527364\n",
            " val loss: 1.0484847938760797, val acc: 0.649468085106383\n",
            "\n",
            "Epoch 7\n",
            " train loss: 0.877644604313744, train acc: 0.6943188496002114\n",
            " val loss: 0.9411934461999447, val acc: 0.672783688027808\n",
            "\n",
            "Epoch 8\n",
            " train loss: 0.8577550961286974, train acc: 0.7033086315587408\n",
            " val loss: 0.91574641998778, val acc: 0.6848404255319149\n",
            "\n",
            "Epoch 9\n",
            " train loss: 0.8507915035680181, train acc: 0.7048715396598663\n",
            " val loss: 0.9613931295719552, val acc: 0.6728058510638298\n",
            "\n",
            "Epoch 10\n",
            " train loss: 0.7405907937225084, train acc: 0.7452010970011054\n",
            " val loss: 0.8272713280738668, val acc: 0.7137189718002969\n",
            "\n",
            "Epoch 11\n",
            " train loss: 0.7232580419214377, train acc: 0.7512323714697383\n",
            " val loss: 0.8199442163426826, val acc: 0.715314716481148\n",
            "\n",
            "Epoch 12\n",
            " train loss: 0.716512725492718, train acc: 0.7522892727494458\n",
            " val loss: 0.820496528706652, val acc: 0.7151152483960416\n",
            "\n",
            "Epoch 13\n",
            " train loss: 0.71337044168216, train acc: 0.7529013776909934\n",
            " val loss: 0.8168600145806657, val acc: 0.7191710994598713\n",
            "\n",
            "Epoch 14\n",
            " train loss: 0.7075815783231306, train acc: 0.7561659375971806\n",
            " val loss: 0.8137691488925447, val acc: 0.7203235816448292\n",
            "\n",
            "Epoch 15\n",
            " train loss: 0.6936190942305751, train acc: 0.7615687843868458\n",
            " val loss: 0.8069815980627182, val acc: 0.7204343973322117\n",
            "\n",
            "Epoch 16\n",
            " train loss: 0.6905608196799018, train acc: 0.762470619007264\n",
            " val loss: 0.8086008657800391, val acc: 0.7203679079705096\n",
            "\n",
            "Epoch 17\n",
            " train loss: 0.6902486385004611, train acc: 0.7617116088841036\n",
            " val loss: 0.8071218358709457, val acc: 0.7214982271194458\n",
            "\n",
            "Epoch 18\n",
            " train loss: 0.6891894997582793, train acc: 0.7630745625801016\n",
            " val loss: 0.807334602893667, val acc: 0.7220301420130628\n",
            "\n",
            "Epoch 19\n",
            " train loss: 0.6917914014302834, train acc: 0.761421879205233\n",
            " val loss: 0.8064246847274456, val acc: 0.7214317377577437\n",
            "\n"
          ]
        }
      ],
      "source": [
        "net = BasicBlockNet().to(device)\n",
        "optimizer = optim.SGD(net.parameters(), lr=0.1, momentum=0.9)\n",
        "scheduler = optim.lr_scheduler.MultiStepLR(optimizer, milestones=[10, 15], gamma=0.1)\n",
        "tr_loss_log, tr_acc_log, val_loss_log, val_acc_log = train(net, optimizer, 20, train_loader, val_loader, scheduler)"
      ]
    },
    {
      "cell_type": "markdown",
      "metadata": {
        "id": "5Xc76KvzO9Du"
      },
      "source": [
        "Посчитайте точность на тестовой выборке:"
      ]
    },
    {
      "cell_type": "code",
      "execution_count": null,
      "metadata": {
        "colab": {
          "background_save": true
        },
        "id": "1AjiYhKqO9Du",
        "outputId": "976e02e0-4842-4636-d13b-fe27f7bcd2d7"
      },
      "outputs": [
        {
          "name": "stdout",
          "output_type": "stream",
          "text": [
            "0.7153662420382165\n"
          ]
        }
      ],
      "source": [
        "_, acc = test(net, test_loader)\n",
        "print(np.mean(acc))"
      ]
    },
    {
      "cell_type": "markdown",
      "metadata": {
        "id": "yE0dgLYrO9Du"
      },
      "source": [
        "**Задание 3.0 (0.5 баллов).** Здесь может возникнуть вопрос: а что будет, если мы не будем уменьшать длину шага в процессе обучения, а сразу возьмем констатную, равную значению нашей кусочно-постоянной функции на последних эпохах, то есть $0.001$ в нашем случае. Запустите обучение и проверьте, что в таком случае мы получим худшее качество на тестовой выборке."
      ]
    },
    {
      "cell_type": "code",
      "execution_count": 13,
      "metadata": {
        "colab": {
          "base_uri": "https://localhost:8080/",
          "height": 222,
          "referenced_widgets": [
            "66a1c1f13bed4013b57a1703f9d1529e",
            "a5765bcedd5b41ea979259fd141fe73e",
            "47645c0a03ee422089d5899f16440fce",
            "cc749f14fcaa42849b88554d4577506a",
            "6a38934f3ee54ec79ac43c81a3e81574",
            "df180b8d633b41c68eac5f19f5eb713e",
            "e947390d075e48109ec11fb09d1321c4",
            "f2c46f05a3dd41a8b99126f1f2b50f88"
          ]
        },
        "id": "rLOzcJg8wQgR",
        "outputId": "6588b50a-206c-4ded-bc1b-e1dfc6358c2f"
      },
      "outputs": [
        {
          "output_type": "display_data",
          "data": {
            "text/plain": [
              "<IPython.core.display.HTML object>"
            ],
            "text/html": [
              "Finishing last run (ID:fql6t7x9) before initializing another..."
            ]
          },
          "metadata": {}
        },
        {
          "output_type": "display_data",
          "data": {
            "text/plain": [
              "VBox(children=(Label(value='0.012 MB of 0.012 MB uploaded\\r'), FloatProgress(value=1.0, max=1.0)))"
            ],
            "application/vnd.jupyter.widget-view+json": {
              "version_major": 2,
              "version_minor": 0,
              "model_id": "66a1c1f13bed4013b57a1703f9d1529e"
            }
          },
          "metadata": {}
        },
        {
          "output_type": "display_data",
          "data": {
            "text/plain": [
              "<IPython.core.display.HTML object>"
            ],
            "text/html": [
              " View run <strong style=\"color:#cdcd00\">sgd</strong> at: <a href='https://wandb.ai/verabuylova-nes/dl1_hw2/runs/fql6t7x9' target=\"_blank\">https://wandb.ai/verabuylova-nes/dl1_hw2/runs/fql6t7x9</a><br/> View project at: <a href='https://wandb.ai/verabuylova-nes/dl1_hw2' target=\"_blank\">https://wandb.ai/verabuylova-nes/dl1_hw2</a><br/>Synced 5 W&B file(s), 0 media file(s), 0 artifact file(s) and 0 other file(s)"
            ]
          },
          "metadata": {}
        },
        {
          "output_type": "display_data",
          "data": {
            "text/plain": [
              "<IPython.core.display.HTML object>"
            ],
            "text/html": [
              "Find logs at: <code>./wandb/run-20241119_163136-fql6t7x9/logs</code>"
            ]
          },
          "metadata": {}
        },
        {
          "output_type": "display_data",
          "data": {
            "text/plain": [
              "<IPython.core.display.HTML object>"
            ],
            "text/html": [
              "Successfully finished last run (ID:fql6t7x9). Initializing new run:<br/>"
            ]
          },
          "metadata": {}
        },
        {
          "output_type": "display_data",
          "data": {
            "text/plain": [
              "<IPython.core.display.HTML object>"
            ],
            "text/html": [
              "Tracking run with wandb version 0.18.7"
            ]
          },
          "metadata": {}
        },
        {
          "output_type": "display_data",
          "data": {
            "text/plain": [
              "<IPython.core.display.HTML object>"
            ],
            "text/html": [
              "Run data is saved locally in <code>/content/wandb/run-20241119_163338-legq7t9a</code>"
            ]
          },
          "metadata": {}
        },
        {
          "output_type": "display_data",
          "data": {
            "text/plain": [
              "<IPython.core.display.HTML object>"
            ],
            "text/html": [
              "Syncing run <strong><a href='https://wandb.ai/verabuylova-nes/dl1_hw2/runs/legq7t9a' target=\"_blank\">sgd_const</a></strong> to <a href='https://wandb.ai/verabuylova-nes/dl1_hw2' target=\"_blank\">Weights & Biases</a> (<a href='https://wandb.me/developer-guide' target=\"_blank\">docs</a>)<br/>"
            ]
          },
          "metadata": {}
        },
        {
          "output_type": "display_data",
          "data": {
            "text/plain": [
              "<IPython.core.display.HTML object>"
            ],
            "text/html": [
              " View project at <a href='https://wandb.ai/verabuylova-nes/dl1_hw2' target=\"_blank\">https://wandb.ai/verabuylova-nes/dl1_hw2</a>"
            ]
          },
          "metadata": {}
        },
        {
          "output_type": "display_data",
          "data": {
            "text/plain": [
              "<IPython.core.display.HTML object>"
            ],
            "text/html": [
              " View run at <a href='https://wandb.ai/verabuylova-nes/dl1_hw2/runs/legq7t9a' target=\"_blank\">https://wandb.ai/verabuylova-nes/dl1_hw2/runs/legq7t9a</a>"
            ]
          },
          "metadata": {}
        },
        {
          "output_type": "execute_result",
          "data": {
            "text/html": [
              "<button onClick=\"this.nextSibling.style.display='block';this.style.display='none';\">Display W&B run</button><iframe src='https://wandb.ai/verabuylova-nes/dl1_hw2/runs/legq7t9a?jupyter=true' style='border:none;width:100%;height:420px;display:none;'></iframe>"
            ],
            "text/plain": [
              "<wandb.sdk.wandb_run.Run at 0x7b24c0695d20>"
            ]
          },
          "metadata": {},
          "execution_count": 13
        }
      ],
      "source": [
        "wandb.init(project=\"dl1_hw2\", config={\"epochs\": 20}, name='sgd_const')"
      ]
    },
    {
      "cell_type": "code",
      "execution_count": 14,
      "metadata": {
        "id": "qZ2iB-LBO9Du",
        "colab": {
          "base_uri": "https://localhost:8080/"
        },
        "outputId": "8ce5064d-92ef-49ae-e8b7-e516b5888c3c"
      },
      "outputs": [
        {
          "output_type": "stream",
          "name": "stdout",
          "text": [
            "Epoch 0\n",
            " train loss: 1.8165331444749013, train acc: 0.36589187786827576\n",
            " val loss: 1.60335503943423, val acc: 0.4426640071767442\n",
            "\n",
            "Epoch 1\n",
            " train loss: 1.5169622778238718, train acc: 0.46723197964471264\n",
            " val loss: 1.428450482449633, val acc: 0.4948581561129144\n",
            "\n",
            "Epoch 2\n",
            " train loss: 1.3959048175724595, train acc: 0.5083980804387569\n",
            " val loss: 1.3655740920533526, val acc: 0.517686170212766\n",
            "\n",
            "Epoch 3\n",
            " train loss: 1.3254512389355648, train acc: 0.5360121768396995\n",
            " val loss: 1.2933956704241165, val acc: 0.5462322695458189\n",
            "\n",
            "Epoch 4\n",
            " train loss: 1.2722919054833366, train acc: 0.5545507965837579\n",
            " val loss: 1.2468991375984029, val acc: 0.5673093972053934\n",
            "\n",
            "Epoch 5\n",
            " train loss: 1.227420234919902, train acc: 0.5691025725666304\n",
            " val loss: 1.232069253667872, val acc: 0.5658244680851063\n",
            "\n",
            "Epoch 6\n",
            " train loss: 1.184790692338124, train acc: 0.5841277096781478\n",
            " val loss: 1.1865953590007539, val acc: 0.5921985816448293\n",
            "\n",
            "Epoch 7\n",
            " train loss: 1.1509985678592591, train acc: 0.5977490859232175\n",
            " val loss: 1.1243954666117404, val acc: 0.6064937944107868\n",
            "\n",
            "Epoch 8\n",
            " train loss: 1.1161918591101818, train acc: 0.6109215853637053\n",
            " val loss: 1.1463336310488113, val acc: 0.5948138297872341\n",
            "\n",
            "Epoch 9\n",
            " train loss: 1.0927892430826776, train acc: 0.6180424066958523\n",
            " val loss: 1.0700755816824892, val acc: 0.6271054965384463\n",
            "\n",
            "Epoch 10\n",
            " train loss: 1.0591846702303704, train acc: 0.632459519550177\n",
            " val loss: 1.067163611726558, val acc: 0.6280363476022761\n",
            "\n",
            "Epoch 11\n",
            " train loss: 1.0404246839570388, train acc: 0.6391314638598091\n",
            " val loss: 1.0478549904011665, val acc: 0.6363475178150421\n",
            "\n",
            "Epoch 12\n",
            " train loss: 1.0218545539505521, train acc: 0.6444078088896366\n",
            " val loss: 1.0486971162735148, val acc: 0.6322030143534884\n",
            "\n",
            "Epoch 13\n",
            " train loss: 1.0083021019232992, train acc: 0.6499249151681415\n",
            " val loss: 1.0068857953903523, val acc: 0.651285461161999\n",
            "\n",
            "Epoch 14\n",
            " train loss: 0.9875207847389487, train acc: 0.6569314769024823\n",
            " val loss: 1.0080937385559081, val acc: 0.6450797872340426\n",
            "\n",
            "Epoch 15\n",
            " train loss: 0.9773307181145635, train acc: 0.664186961363177\n",
            " val loss: 0.9730410086347702, val acc: 0.6627437944107867\n",
            "\n",
            "Epoch 16\n",
            " train loss: 0.9635657405504578, train acc: 0.6661824236404308\n",
            " val loss: 0.9690215815889075, val acc: 0.6652703901554676\n",
            "\n",
            "Epoch 17\n",
            " train loss: 0.9537910784184388, train acc: 0.669222545144327\n",
            " val loss: 0.9636879477095097, val acc: 0.6636524824385948\n",
            "\n",
            "Epoch 18\n",
            " train loss: 0.9459444128617073, train acc: 0.6715118177848063\n",
            " val loss: 0.9571280215648894, val acc: 0.6688386526513607\n",
            "\n",
            "Epoch 19\n",
            " train loss: 0.9362144732823974, train acc: 0.6778001763485032\n",
            " val loss: 0.9590165402026887, val acc: 0.6671099292471053\n",
            "\n"
          ]
        }
      ],
      "source": [
        "net = BasicBlockNet().to(device)\n",
        "optimizer = optim.SGD(net.parameters(), lr=0.001, momentum=0.9)\n",
        "tr_loss_log, tr_acc_log, val_loss_log, val_acc_log = train(net, optimizer, 20, train_loader, val_loader)"
      ]
    },
    {
      "cell_type": "code",
      "execution_count": 15,
      "metadata": {
        "id": "6UboKPKdwOrd",
        "colab": {
          "base_uri": "https://localhost:8080/"
        },
        "outputId": "ff254c71-b54f-4b25-f0c3-b93809de5dc3"
      },
      "outputs": [
        {
          "output_type": "stream",
          "name": "stdout",
          "text": [
            "0.6621218152866242\n"
          ]
        }
      ],
      "source": [
        "_, acc = test(net, test_loader)\n",
        "print(np.mean(acc))"
      ]
    },
    {
      "cell_type": "markdown",
      "metadata": {
        "id": "xVotU378O9Du"
      },
      "source": [
        "**Задание 3.1 (1.5 балла).** Изучите, какие еще способы уменьшения длины шага представлены в <code>torch.optim.lr_scheduler</code>. Выберите несколько из них, объясните, как они устроены, и обучите модель с ними. Удалось ли добиться улучшения качества на тестовой выборке?"
      ]
    },
    {
      "cell_type": "markdown",
      "source": [
        "**OneCycleLR**: в начале обучения lr увеличивается с max_lr / div_factor до max_lr (гиперпараметр). После достижения max_lr, lr уменьшается до min_lr (гиперпараметр)."
      ],
      "metadata": {
        "id": "ky9Zn02WVVCm"
      }
    },
    {
      "cell_type": "code",
      "execution_count": 16,
      "metadata": {
        "id": "nkGlzocOO9Du",
        "colab": {
          "base_uri": "https://localhost:8080/",
          "height": 1000,
          "referenced_widgets": [
            "08078a7cca3a40bcb14321df785d0244",
            "cc62770097c941348268dadea8d94deb",
            "b9cbd24ad47348c49d94910c8adb1956",
            "98d5e01e335641c781f26a6eec8f5d74",
            "6c9ba9a1facf4f3599929ed297a6dd72",
            "893ec12c7f354c37b220919cb7643637",
            "fce679bf63b846e4bb1bffe9461e5066",
            "07b319cb0f2d45bc8ef71558243bd543"
          ]
        },
        "outputId": "53e66f37-503e-4375-b85c-3e83251eaf1f"
      },
      "outputs": [
        {
          "output_type": "display_data",
          "data": {
            "text/plain": [
              "<IPython.core.display.HTML object>"
            ],
            "text/html": [
              "Finishing last run (ID:legq7t9a) before initializing another..."
            ]
          },
          "metadata": {}
        },
        {
          "output_type": "display_data",
          "data": {
            "text/plain": [
              "VBox(children=(Label(value='0.015 MB of 0.015 MB uploaded\\r'), FloatProgress(value=1.0, max=1.0)))"
            ],
            "application/vnd.jupyter.widget-view+json": {
              "version_major": 2,
              "version_minor": 0,
              "model_id": "08078a7cca3a40bcb14321df785d0244"
            }
          },
          "metadata": {}
        },
        {
          "output_type": "display_data",
          "data": {
            "text/plain": [
              "<IPython.core.display.HTML object>"
            ],
            "text/html": [
              "\n",
              "    <style>\n",
              "        .wandb-row {\n",
              "            display: flex;\n",
              "            flex-direction: row;\n",
              "            flex-wrap: wrap;\n",
              "            justify-content: flex-start;\n",
              "            width: 100%;\n",
              "        }\n",
              "        .wandb-col {\n",
              "            display: flex;\n",
              "            flex-direction: column;\n",
              "            flex-basis: 100%;\n",
              "            flex: 1;\n",
              "            padding: 10px;\n",
              "        }\n",
              "    </style>\n",
              "<div class=\"wandb-row\"><div class=\"wandb-col\"><h3>Run history:</h3><br/><table class=\"wandb\"><tr><td>epoch</td><td>▁▁▂▂▂▃▃▄▄▄▅▅▅▆▆▇▇▇██</td></tr><tr><td>train_accuracy</td><td>▁▃▄▅▅▆▆▆▆▇▇▇▇▇██████</td></tr><tr><td>train_loss</td><td>█▆▅▄▄▃▃▃▂▂▂▂▂▂▁▁▁▁▁▁</td></tr><tr><td>val_accuracy</td><td>▁▃▃▄▅▅▆▆▆▇▇▇▇▇▇█████</td></tr><tr><td>val_loss</td><td>█▆▅▅▄▄▃▃▃▂▂▂▂▂▂▁▁▁▁▁</td></tr></table><br/></div><div class=\"wandb-col\"><h3>Run summary:</h3><br/><table class=\"wandb\"><tr><td>epoch</td><td>19</td></tr><tr><td>train_accuracy</td><td>0.6778</td></tr><tr><td>train_loss</td><td>0.93621</td></tr><tr><td>val_accuracy</td><td>0.66711</td></tr><tr><td>val_loss</td><td>0.95902</td></tr></table><br/></div></div>"
            ]
          },
          "metadata": {}
        },
        {
          "output_type": "display_data",
          "data": {
            "text/plain": [
              "<IPython.core.display.HTML object>"
            ],
            "text/html": [
              " View run <strong style=\"color:#cdcd00\">sgd_const</strong> at: <a href='https://wandb.ai/verabuylova-nes/dl1_hw2/runs/legq7t9a' target=\"_blank\">https://wandb.ai/verabuylova-nes/dl1_hw2/runs/legq7t9a</a><br/> View project at: <a href='https://wandb.ai/verabuylova-nes/dl1_hw2' target=\"_blank\">https://wandb.ai/verabuylova-nes/dl1_hw2</a><br/>Synced 5 W&B file(s), 0 media file(s), 0 artifact file(s) and 0 other file(s)"
            ]
          },
          "metadata": {}
        },
        {
          "output_type": "display_data",
          "data": {
            "text/plain": [
              "<IPython.core.display.HTML object>"
            ],
            "text/html": [
              "Find logs at: <code>./wandb/run-20241119_163338-legq7t9a/logs</code>"
            ]
          },
          "metadata": {}
        },
        {
          "output_type": "display_data",
          "data": {
            "text/plain": [
              "<IPython.core.display.HTML object>"
            ],
            "text/html": [
              "Successfully finished last run (ID:legq7t9a). Initializing new run:<br/>"
            ]
          },
          "metadata": {}
        },
        {
          "output_type": "display_data",
          "data": {
            "text/plain": [
              "<IPython.core.display.HTML object>"
            ],
            "text/html": [
              "Tracking run with wandb version 0.18.7"
            ]
          },
          "metadata": {}
        },
        {
          "output_type": "display_data",
          "data": {
            "text/plain": [
              "<IPython.core.display.HTML object>"
            ],
            "text/html": [
              "Run data is saved locally in <code>/content/wandb/run-20241119_164018-hiz28rz7</code>"
            ]
          },
          "metadata": {}
        },
        {
          "output_type": "display_data",
          "data": {
            "text/plain": [
              "<IPython.core.display.HTML object>"
            ],
            "text/html": [
              "Syncing run <strong><a href='https://wandb.ai/verabuylova-nes/dl1_hw2/runs/hiz28rz7' target=\"_blank\">onecyclelr</a></strong> to <a href='https://wandb.ai/verabuylova-nes/dl1_hw2' target=\"_blank\">Weights & Biases</a> (<a href='https://wandb.me/developer-guide' target=\"_blank\">docs</a>)<br/>"
            ]
          },
          "metadata": {}
        },
        {
          "output_type": "display_data",
          "data": {
            "text/plain": [
              "<IPython.core.display.HTML object>"
            ],
            "text/html": [
              " View project at <a href='https://wandb.ai/verabuylova-nes/dl1_hw2' target=\"_blank\">https://wandb.ai/verabuylova-nes/dl1_hw2</a>"
            ]
          },
          "metadata": {}
        },
        {
          "output_type": "display_data",
          "data": {
            "text/plain": [
              "<IPython.core.display.HTML object>"
            ],
            "text/html": [
              " View run at <a href='https://wandb.ai/verabuylova-nes/dl1_hw2/runs/hiz28rz7' target=\"_blank\">https://wandb.ai/verabuylova-nes/dl1_hw2/runs/hiz28rz7</a>"
            ]
          },
          "metadata": {}
        },
        {
          "output_type": "stream",
          "name": "stdout",
          "text": [
            "Epoch 0\n",
            " train loss: 1.8709966397590567, train acc: 0.34393771224309583\n",
            " val loss: 1.6478064745030505, val acc: 0.42353723404255317\n",
            "\n",
            "Epoch 1\n",
            " train loss: 1.501759221828398, train acc: 0.47096173941980113\n",
            " val loss: 1.401038694381714, val acc: 0.506626773134191\n",
            "\n",
            "Epoch 2\n",
            " train loss: 1.354648117827323, train acc: 0.5187222513027994\n",
            " val loss: 1.275431976419814, val acc: 0.5424202127659574\n",
            "\n",
            "Epoch 3\n",
            " train loss: 1.2413300480659526, train acc: 0.5594639592894253\n",
            " val loss: 1.194145169156663, val acc: 0.5708776595744681\n",
            "\n",
            "Epoch 4\n",
            " train loss: 1.1478627178089273, train acc: 0.5948966767713836\n",
            " val loss: 1.0975719355522318, val acc: 0.6116799646235527\n",
            "\n",
            "Epoch 5\n",
            " train loss: 1.0740189218869811, train acc: 0.6226127906081009\n",
            " val loss: 1.0758110150377802, val acc: 0.6152925531914893\n",
            "\n",
            "Epoch 6\n",
            " train loss: 1.0138243393226778, train acc: 0.6454769522224092\n",
            " val loss: 1.000296991683067, val acc: 0.6480718085106383\n",
            "\n",
            "Epoch 7\n",
            " train loss: 0.9730682057044188, train acc: 0.660465363065765\n",
            " val loss: 0.9532094993489854, val acc: 0.6683067377577436\n",
            "\n",
            "Epoch 8\n",
            " train loss: 0.9395176604853251, train acc: 0.6727482698299331\n",
            " val loss: 0.9930482433197346, val acc: 0.6578679079705096\n",
            "\n",
            "Epoch 9\n",
            " train loss: 0.911372246864291, train acc: 0.6841742296105547\n",
            " val loss: 0.9107067699128009, val acc: 0.6815824468085107\n",
            "\n",
            "Epoch 10\n",
            " train loss: 0.8874707007320969, train acc: 0.6916786367976033\n",
            " val loss: 0.9129313253341838, val acc: 0.6852393617021276\n",
            "\n",
            "Epoch 11\n",
            " train loss: 0.8695216792375122, train acc: 0.7006969836555843\n",
            " val loss: 0.9445003545030635, val acc: 0.6694813829787234\n",
            "\n",
            "Epoch 12\n",
            " train loss: 0.8486574610909771, train acc: 0.7058957952468007\n",
            " val loss: 0.8925910911661513, val acc: 0.6897384752618506\n",
            "\n",
            "Epoch 13\n",
            " train loss: 0.8354992631148594, train acc: 0.7120250065758198\n",
            " val loss: 0.8484846556440313, val acc: 0.7066710994598714\n",
            "\n",
            "Epoch 14\n",
            " train loss: 0.8162767697513866, train acc: 0.7182195090724519\n",
            " val loss: 0.8537915825843811, val acc: 0.7018838654173182\n",
            "\n",
            "Epoch 15\n",
            " train loss: 0.7972591530797251, train acc: 0.72508732699389\n",
            " val loss: 0.8508931494773703, val acc: 0.705718085106383\n",
            "\n",
            "Epoch 16\n",
            " train loss: 0.7801259557769329, train acc: 0.7323917798847778\n",
            " val loss: 0.8249755397756049, val acc: 0.7148714539852549\n",
            "\n",
            "Epoch 17\n",
            " train loss: 0.7655631730935691, train acc: 0.7368887111517367\n",
            " val loss: 0.8132710992021763, val acc: 0.7236702127659574\n",
            "\n",
            "Epoch 18\n",
            " train loss: 0.7537968815244748, train acc: 0.7421691368659192\n",
            " val loss: 0.8055189074353969, val acc: 0.7239140071767441\n",
            "\n",
            "Epoch 19\n",
            " train loss: 0.7507135510662574, train acc: 0.7442339711041076\n",
            " val loss: 0.8052308800372672, val acc: 0.723470744680851\n",
            "\n"
          ]
        }
      ],
      "source": [
        "wandb.init(project=\"dl1_hw2\", config={\"epochs\": 20}, name='onecyclelr')\n",
        "\n",
        "net = BasicBlockNet().to(device)\n",
        "optimizer = optim.SGD(net.parameters(), lr=0.1, momentum=0.9)\n",
        "scheduler = optim.lr_scheduler.OneCycleLR(optimizer, max_lr=0.01, steps_per_epoch=2, epochs=10)\n",
        "tr_loss_log, tr_acc_log, val_loss_log, val_acc_log = train(net, optimizer, 20, train_loader, val_loader, scheduler)"
      ]
    },
    {
      "cell_type": "code",
      "source": [
        "_, acc = test(net, test_loader)\n",
        "print(np.mean(acc))"
      ],
      "metadata": {
        "colab": {
          "base_uri": "https://localhost:8080/"
        },
        "id": "NZAPPWqSRub0",
        "outputId": "0babb4bd-01be-4bdd-cfea-0edf0c4d2502"
      },
      "execution_count": 17,
      "outputs": [
        {
          "output_type": "stream",
          "name": "stdout",
          "text": [
            "0.7177547770700637\n"
          ]
        }
      ]
    },
    {
      "cell_type": "markdown",
      "source": [
        "ExponentialLR: экпоненциально уменьшающийся lr.\n",
        "В\n",
        "$$\n",
        "\\text{lr}_{t+1} = \\text{lr}_t \\cdot \\gamma\n",
        "$$\n",
        "где $\\gamma$ - гиперпараметр, определяющий скорость уменьшения (меньше 1)."
      ],
      "metadata": {
        "id": "1VnUvZkhWdZl"
      }
    },
    {
      "cell_type": "code",
      "source": [
        "wandb.init(project=\"dl1_hw2\", config={\"epochs\": 20}, name='exponential')\n",
        "\n",
        "net = BasicBlockNet().to(device)\n",
        "optimizer = optim.SGD(net.parameters(), lr=0.1, momentum=0.9)\n",
        "scheduler = optim.lr_scheduler.ExponentialLR(optimizer, gamma = 0.95)\n",
        "tr_loss_log, tr_acc_log, val_loss_log, val_acc_log = train(net, optimizer, 20, train_loader, val_loader, scheduler)"
      ],
      "metadata": {
        "colab": {
          "base_uri": "https://localhost:8080/",
          "height": 1000,
          "referenced_widgets": [
            "7fa9e84c3ab343c6a0482139ac8f51f2",
            "f50333a6722449f6ab95dd3c4c631c4c",
            "810272f0480c40ee8562b70d4eecc289",
            "34dcac2a8a1e4f30b19c6fcb13d9f0ca",
            "1e052e56f4e942a7abb8b14da2196f5b",
            "59596787461f48f5b93895e8e6c1209f",
            "246748e0e51c4c3cbe8ca10d5ef42621",
            "65c396284817442f92709e0326c6a14b"
          ]
        },
        "id": "8kS4mwwhSPgf",
        "outputId": "efcd547f-907e-49a8-9564-bb63d90a9186"
      },
      "execution_count": 18,
      "outputs": [
        {
          "output_type": "display_data",
          "data": {
            "text/plain": [
              "<IPython.core.display.HTML object>"
            ],
            "text/html": [
              "Finishing last run (ID:hiz28rz7) before initializing another..."
            ]
          },
          "metadata": {}
        },
        {
          "output_type": "display_data",
          "data": {
            "text/plain": [
              "VBox(children=(Label(value='0.015 MB of 0.015 MB uploaded\\r'), FloatProgress(value=1.0, max=1.0)))"
            ],
            "application/vnd.jupyter.widget-view+json": {
              "version_major": 2,
              "version_minor": 0,
              "model_id": "7fa9e84c3ab343c6a0482139ac8f51f2"
            }
          },
          "metadata": {}
        },
        {
          "output_type": "display_data",
          "data": {
            "text/plain": [
              "<IPython.core.display.HTML object>"
            ],
            "text/html": [
              "\n",
              "    <style>\n",
              "        .wandb-row {\n",
              "            display: flex;\n",
              "            flex-direction: row;\n",
              "            flex-wrap: wrap;\n",
              "            justify-content: flex-start;\n",
              "            width: 100%;\n",
              "        }\n",
              "        .wandb-col {\n",
              "            display: flex;\n",
              "            flex-direction: column;\n",
              "            flex-basis: 100%;\n",
              "            flex: 1;\n",
              "            padding: 10px;\n",
              "        }\n",
              "    </style>\n",
              "<div class=\"wandb-row\"><div class=\"wandb-col\"><h3>Run history:</h3><br/><table class=\"wandb\"><tr><td>epoch</td><td>▁▁▂▂▂▃▃▄▄▄▅▅▅▆▆▇▇▇██</td></tr><tr><td>train_accuracy</td><td>▁▃▄▅▅▆▆▇▇▇▇▇▇▇██████</td></tr><tr><td>train_loss</td><td>█▆▅▄▃▃▃▂▂▂▂▂▂▂▁▁▁▁▁▁</td></tr><tr><td>val_accuracy</td><td>▁▃▄▄▅▅▆▇▆▇▇▇▇█▇█████</td></tr><tr><td>val_loss</td><td>█▆▅▄▃▃▃▂▃▂▂▂▂▁▁▁▁▁▁▁</td></tr></table><br/></div><div class=\"wandb-col\"><h3>Run summary:</h3><br/><table class=\"wandb\"><tr><td>epoch</td><td>19</td></tr><tr><td>train_accuracy</td><td>0.74423</td></tr><tr><td>train_loss</td><td>0.75071</td></tr><tr><td>val_accuracy</td><td>0.72347</td></tr><tr><td>val_loss</td><td>0.80523</td></tr></table><br/></div></div>"
            ]
          },
          "metadata": {}
        },
        {
          "output_type": "display_data",
          "data": {
            "text/plain": [
              "<IPython.core.display.HTML object>"
            ],
            "text/html": [
              " View run <strong style=\"color:#cdcd00\">onecyclelr</strong> at: <a href='https://wandb.ai/verabuylova-nes/dl1_hw2/runs/hiz28rz7' target=\"_blank\">https://wandb.ai/verabuylova-nes/dl1_hw2/runs/hiz28rz7</a><br/> View project at: <a href='https://wandb.ai/verabuylova-nes/dl1_hw2' target=\"_blank\">https://wandb.ai/verabuylova-nes/dl1_hw2</a><br/>Synced 5 W&B file(s), 0 media file(s), 0 artifact file(s) and 0 other file(s)"
            ]
          },
          "metadata": {}
        },
        {
          "output_type": "display_data",
          "data": {
            "text/plain": [
              "<IPython.core.display.HTML object>"
            ],
            "text/html": [
              "Find logs at: <code>./wandb/run-20241119_164018-hiz28rz7/logs</code>"
            ]
          },
          "metadata": {}
        },
        {
          "output_type": "display_data",
          "data": {
            "text/plain": [
              "<IPython.core.display.HTML object>"
            ],
            "text/html": [
              "Successfully finished last run (ID:hiz28rz7). Initializing new run:<br/>"
            ]
          },
          "metadata": {}
        },
        {
          "output_type": "display_data",
          "data": {
            "text/plain": [
              "<IPython.core.display.HTML object>"
            ],
            "text/html": [
              "Tracking run with wandb version 0.18.7"
            ]
          },
          "metadata": {}
        },
        {
          "output_type": "display_data",
          "data": {
            "text/plain": [
              "<IPython.core.display.HTML object>"
            ],
            "text/html": [
              "Run data is saved locally in <code>/content/wandb/run-20241119_164619-ds1g34wx</code>"
            ]
          },
          "metadata": {}
        },
        {
          "output_type": "display_data",
          "data": {
            "text/plain": [
              "<IPython.core.display.HTML object>"
            ],
            "text/html": [
              "Syncing run <strong><a href='https://wandb.ai/verabuylova-nes/dl1_hw2/runs/ds1g34wx' target=\"_blank\">exponential</a></strong> to <a href='https://wandb.ai/verabuylova-nes/dl1_hw2' target=\"_blank\">Weights & Biases</a> (<a href='https://wandb.me/developer-guide' target=\"_blank\">docs</a>)<br/>"
            ]
          },
          "metadata": {}
        },
        {
          "output_type": "display_data",
          "data": {
            "text/plain": [
              "<IPython.core.display.HTML object>"
            ],
            "text/html": [
              " View project at <a href='https://wandb.ai/verabuylova-nes/dl1_hw2' target=\"_blank\">https://wandb.ai/verabuylova-nes/dl1_hw2</a>"
            ]
          },
          "metadata": {}
        },
        {
          "output_type": "display_data",
          "data": {
            "text/plain": [
              "<IPython.core.display.HTML object>"
            ],
            "text/html": [
              " View run at <a href='https://wandb.ai/verabuylova-nes/dl1_hw2/runs/ds1g34wx' target=\"_blank\">https://wandb.ai/verabuylova-nes/dl1_hw2/runs/ds1g34wx</a>"
            ]
          },
          "metadata": {}
        },
        {
          "output_type": "stream",
          "name": "stdout",
          "text": [
            "Epoch 0\n",
            " train loss: 1.484041240795003, train acc: 0.47264298780308783\n",
            " val loss: 1.288776229290252, val acc: 0.5528590425531915\n",
            "\n",
            "Epoch 1\n",
            " train loss: 1.1539309089100993, train acc: 0.5970676091297017\n",
            " val loss: 1.12567593188996, val acc: 0.5992686170212767\n",
            "\n",
            "Epoch 2\n",
            " train loss: 1.0404600734248675, train acc: 0.6377929942699412\n",
            " val loss: 1.0059974870783217, val acc: 0.6479831561129143\n",
            "\n",
            "Epoch 3\n",
            " train loss: 0.9824634508197443, train acc: 0.6595472055989602\n",
            " val loss: 1.015063997532459, val acc: 0.6538563829787234\n",
            "\n",
            "Epoch 4\n",
            " train loss: 0.9493567451044672, train acc: 0.6699489096836808\n",
            " val loss: 0.975778840957804, val acc: 0.6634530143534884\n",
            "\n",
            "Epoch 5\n",
            " train loss: 0.9241604317912672, train acc: 0.6805056804276908\n",
            " val loss: 0.9496582094659196, val acc: 0.673249113559723\n",
            "\n",
            "Epoch 6\n",
            " train loss: 0.8926424534490819, train acc: 0.6900790024283163\n",
            " val loss: 0.9540332753607568, val acc: 0.671875\n",
            "\n",
            "Epoch 7\n",
            " train loss: 0.877594138739096, train acc: 0.695996017299143\n",
            " val loss: 0.9647813365814534, val acc: 0.6690381207364671\n",
            "\n",
            "Epoch 8\n",
            " train loss: 0.857253339761354, train acc: 0.7025088143740973\n",
            " val loss: 0.9195734328411995, val acc: 0.6770833335024246\n",
            "\n",
            "Epoch 9\n",
            " train loss: 0.8355333763132148, train acc: 0.7093317446586637\n",
            " val loss: 0.9897166150681516, val acc: 0.6635416667512123\n",
            "\n",
            "Epoch 10\n",
            " train loss: 0.8268453958265525, train acc: 0.713738900542913\n",
            " val loss: 0.8928150377375015, val acc: 0.6934397164811479\n",
            "\n",
            "Epoch 11\n",
            " train loss: 0.809523904563304, train acc: 0.7204638940760597\n",
            " val loss: 0.9172056923521326, val acc: 0.6902260638297872\n",
            "\n",
            "Epoch 12\n",
            " train loss: 0.7982461728714066, train acc: 0.7224675177220234\n",
            " val loss: 0.8650731528058965, val acc: 0.7019060284533399\n",
            "\n",
            "Epoch 13\n",
            " train loss: 0.785602905905007, train acc: 0.7285191957213979\n",
            " val loss: 0.8620952117950358, val acc: 0.7049202127659574\n",
            "\n",
            "Epoch 14\n",
            " train loss: 0.7749899463963029, train acc: 0.7329753200358403\n",
            " val loss: 0.8779050043288698, val acc: 0.6978723404255319\n",
            "\n",
            "Epoch 15\n",
            " train loss: 0.7630040771455607, train acc: 0.7374477670877028\n",
            " val loss: 0.8960864660587716, val acc: 0.6967198582405739\n",
            "\n",
            "Epoch 16\n",
            " train loss: 0.7563768475430539, train acc: 0.7375783495318955\n",
            " val loss: 0.8542115449905395, val acc: 0.7067597518575952\n",
            "\n",
            "Epoch 17\n",
            " train loss: 0.7446000143967337, train acc: 0.7416427266227262\n",
            " val loss: 0.8496281954836338, val acc: 0.7096631207364671\n",
            "\n",
            "Epoch 18\n",
            " train loss: 0.7363195684644814, train acc: 0.7448868831071382\n",
            " val loss: 0.8471440544787874, val acc: 0.709751773134191\n",
            "\n",
            "Epoch 19\n",
            " train loss: 0.727873405056854, train acc: 0.7480575868372943\n",
            " val loss: 0.8231782980421756, val acc: 0.7197251773895101\n",
            "\n"
          ]
        }
      ]
    },
    {
      "cell_type": "code",
      "source": [
        "_, acc = test(net, test_loader)\n",
        "print(np.mean(acc))"
      ],
      "metadata": {
        "colab": {
          "base_uri": "https://localhost:8080/"
        },
        "id": "CJ60JTAeSgpG",
        "outputId": "90dc87b4-d1cd-4bfc-c804-b4aad1dd5fcb"
      },
      "execution_count": 19,
      "outputs": [
        {
          "output_type": "stream",
          "name": "stdout",
          "text": [
            "0.7170581210191083\n"
          ]
        }
      ]
    },
    {
      "cell_type": "markdown",
      "metadata": {
        "id": "7xFXgl_3_E--"
      },
      "source": [
        "## 4. Аугментации данных (2 балла)"
      ]
    },
    {
      "cell_type": "markdown",
      "metadata": {
        "id": "5G0Easo9O9Du"
      },
      "source": [
        "Еще одной стандартной техникой, применяющейся в глубинном обучении, а особенно часто в компьютерном зрении, являются аугментации данных. Суть аугментаций состоит в том, что мы можем некоторым синтетическим образом видоизменять объекты обучающей выборки, тем самым расширяя ее, а также делая итоговую модель более устойчивой к таким изменениям.\n",
        "\n",
        "Простейшая аугментация, которую можно применить к картинкам — разворот картинки по горизонтальной оси. То есть при обучении модели с вероятностью $0.5$ мы будем разворачивать картинку из обучающей выборки."
      ]
    },
    {
      "cell_type": "code",
      "execution_count": 21,
      "metadata": {
        "id": "SzeFpgtfO9Du",
        "colab": {
          "base_uri": "https://localhost:8080/",
          "height": 369
        },
        "outputId": "7f6eb8f7-2aad-4530-8174-abe5c7b79285"
      },
      "outputs": [
        {
          "output_type": "display_data",
          "data": {
            "text/plain": [
              "<Figure size 640x480 with 1 Axes>"
            ],
            "image/png": "[encoded data removed]"
          },
          "metadata": {}
        },
        {
          "output_type": "display_data",
          "data": {
            "text/plain": [
              "<Figure size 640x480 with 1 Axes>"
            ],
            "image/png": "[encoded data removed]"
          },
          "metadata": {}
        }
      ],
      "source": [
        "dataiter = iter(train_loader)\n",
        "images, labels = next(dataiter)\n",
        "\n",
        "imshow(torchvision.utils.make_grid(images[:4]))\n",
        "\n",
        "imshow(torchvision.utils.make_grid(transforms.functional.hflip(images[:4])))"
      ]
    },
    {
      "cell_type": "markdown",
      "metadata": {
        "id": "BR4a-XJQO9Du"
      },
      "source": [
        "Наиболее удобным способом работы с аугментациями в PyTorch является их задание в списке <code>transforms</code>, который затем передается в загрузчик данных. Обучим нашу сеть, применяя горизонтальные повороты:"
      ]
    },
    {
      "cell_type": "code",
      "source": [
        "wandb.init(project=\"dl1_hw2\", config={\"epochs\": 20}, name='horizontal_flip')"
      ],
      "metadata": {
        "colab": {
          "base_uri": "https://localhost:8080/",
          "height": 423,
          "referenced_widgets": [
            "9fcbd00328a344c699e75200d314f533",
            "63ba58f160724c48ae5aeeb3ee5adc40",
            "b63c8a7d476a45f7923fb901efc06d1a",
            "05d35876ef2c4d358c1f26766e59da08",
            "2c192ac67931428aab102422f40cceec",
            "70e76e9dc573484bb94b8b223b5eaf30",
            "71eba64999614084903720b0eb20a087",
            "5d0f7d24a0af4abf9a1eecc754ee9bde"
          ]
        },
        "id": "ocBMF9zzS1j5",
        "outputId": "3c57ad98-ed94-49c1-aea2-dbe7303399d9"
      },
      "execution_count": 23,
      "outputs": [
        {
          "output_type": "display_data",
          "data": {
            "text/plain": [
              "<IPython.core.display.HTML object>"
            ],
            "text/html": [
              "Finishing last run (ID:ds1g34wx) before initializing another..."
            ]
          },
          "metadata": {}
        },
        {
          "output_type": "display_data",
          "data": {
            "text/plain": [
              "VBox(children=(Label(value='0.015 MB of 0.015 MB uploaded\\r'), FloatProgress(value=1.0, max=1.0)))"
            ],
            "application/vnd.jupyter.widget-view+json": {
              "version_major": 2,
              "version_minor": 0,
              "model_id": "9fcbd00328a344c699e75200d314f533"
            }
          },
          "metadata": {}
        },
        {
          "output_type": "display_data",
          "data": {
            "text/plain": [
              "<IPython.core.display.HTML object>"
            ],
            "text/html": [
              "\n",
              "    <style>\n",
              "        .wandb-row {\n",
              "            display: flex;\n",
              "            flex-direction: row;\n",
              "            flex-wrap: wrap;\n",
              "            justify-content: flex-start;\n",
              "            width: 100%;\n",
              "        }\n",
              "        .wandb-col {\n",
              "            display: flex;\n",
              "            flex-direction: column;\n",
              "            flex-basis: 100%;\n",
              "            flex: 1;\n",
              "            padding: 10px;\n",
              "        }\n",
              "    </style>\n",
              "<div class=\"wandb-row\"><div class=\"wandb-col\"><h3>Run history:</h3><br/><table class=\"wandb\"><tr><td>epoch</td><td>▁▁▂▂▂▃▃▄▄▄▅▅▅▆▆▇▇▇██</td></tr><tr><td>train_accuracy</td><td>▁▄▅▆▆▆▇▇▇▇▇▇▇███████</td></tr><tr><td>train_loss</td><td>█▅▄▃▃▃▃▂▂▂▂▂▂▂▁▁▁▁▁▁</td></tr><tr><td>val_accuracy</td><td>▁▃▅▅▆▆▆▆▆▆▇▇▇▇▇▇▇███</td></tr><tr><td>val_loss</td><td>█▆▄▄▃▃▃▃▂▄▂▂▂▂▂▂▁▁▁▁</td></tr></table><br/></div><div class=\"wandb-col\"><h3>Run summary:</h3><br/><table class=\"wandb\"><tr><td>epoch</td><td>19</td></tr><tr><td>train_accuracy</td><td>0.74806</td></tr><tr><td>train_loss</td><td>0.72787</td></tr><tr><td>val_accuracy</td><td>0.71973</td></tr><tr><td>val_loss</td><td>0.82318</td></tr></table><br/></div></div>"
            ]
          },
          "metadata": {}
        },
        {
          "output_type": "display_data",
          "data": {
            "text/plain": [
              "<IPython.core.display.HTML object>"
            ],
            "text/html": [
              " View run <strong style=\"color:#cdcd00\">exponential</strong> at: <a href='https://wandb.ai/verabuylova-nes/dl1_hw2/runs/ds1g34wx' target=\"_blank\">https://wandb.ai/verabuylova-nes/dl1_hw2/runs/ds1g34wx</a><br/> View project at: <a href='https://wandb.ai/verabuylova-nes/dl1_hw2' target=\"_blank\">https://wandb.ai/verabuylova-nes/dl1_hw2</a><br/>Synced 5 W&B file(s), 0 media file(s), 0 artifact file(s) and 0 other file(s)"
            ]
          },
          "metadata": {}
        },
        {
          "output_type": "display_data",
          "data": {
            "text/plain": [
              "<IPython.core.display.HTML object>"
            ],
            "text/html": [
              "Find logs at: <code>./wandb/run-20241119_164619-ds1g34wx/logs</code>"
            ]
          },
          "metadata": {}
        },
        {
          "output_type": "display_data",
          "data": {
            "text/plain": [
              "<IPython.core.display.HTML object>"
            ],
            "text/html": [
              "Successfully finished last run (ID:ds1g34wx). Initializing new run:<br/>"
            ]
          },
          "metadata": {}
        },
        {
          "output_type": "display_data",
          "data": {
            "text/plain": [
              "<IPython.core.display.HTML object>"
            ],
            "text/html": [
              "Tracking run with wandb version 0.18.7"
            ]
          },
          "metadata": {}
        },
        {
          "output_type": "display_data",
          "data": {
            "text/plain": [
              "<IPython.core.display.HTML object>"
            ],
            "text/html": [
              "Run data is saved locally in <code>/content/wandb/run-20241119_165446-hbi3nohx</code>"
            ]
          },
          "metadata": {}
        },
        {
          "output_type": "display_data",
          "data": {
            "text/plain": [
              "<IPython.core.display.HTML object>"
            ],
            "text/html": [
              "Syncing run <strong><a href='https://wandb.ai/verabuylova-nes/dl1_hw2/runs/hbi3nohx' target=\"_blank\">horizontal_flip</a></strong> to <a href='https://wandb.ai/verabuylova-nes/dl1_hw2' target=\"_blank\">Weights & Biases</a> (<a href='https://wandb.me/developer-guide' target=\"_blank\">docs</a>)<br/>"
            ]
          },
          "metadata": {}
        },
        {
          "output_type": "display_data",
          "data": {
            "text/plain": [
              "<IPython.core.display.HTML object>"
            ],
            "text/html": [
              " View project at <a href='https://wandb.ai/verabuylova-nes/dl1_hw2' target=\"_blank\">https://wandb.ai/verabuylova-nes/dl1_hw2</a>"
            ]
          },
          "metadata": {}
        },
        {
          "output_type": "display_data",
          "data": {
            "text/plain": [
              "<IPython.core.display.HTML object>"
            ],
            "text/html": [
              " View run at <a href='https://wandb.ai/verabuylova-nes/dl1_hw2/runs/hbi3nohx' target=\"_blank\">https://wandb.ai/verabuylova-nes/dl1_hw2/runs/hbi3nohx</a>"
            ]
          },
          "metadata": {}
        },
        {
          "output_type": "execute_result",
          "data": {
            "text/html": [
              "<button onClick=\"this.nextSibling.style.display='block';this.style.display='none';\">Display W&B run</button><iframe src='https://wandb.ai/verabuylova-nes/dl1_hw2/runs/hbi3nohx?jupyter=true' style='border:none;width:100%;height:420px;display:none;'></iframe>"
            ],
            "text/plain": [
              "<wandb.sdk.wandb_run.Run at 0x7b24aa5447f0>"
            ]
          },
          "metadata": {},
          "execution_count": 23
        }
      ]
    },
    {
      "cell_type": "code",
      "execution_count": 24,
      "metadata": {
        "id": "na0ScBf-_AqX",
        "scrolled": true,
        "colab": {
          "base_uri": "https://localhost:8080/"
        },
        "outputId": "3946a855-6251-48c9-f8ac-de022fb742bf"
      },
      "outputs": [
        {
          "output_type": "stream",
          "name": "stdout",
          "text": [
            "Files already downloaded and verified\n",
            "Files already downloaded and verified\n",
            "Epoch 0\n",
            " train loss: 1.4876504539353756, train acc: 0.4701945678189642\n",
            " val loss: 1.3285790220220037, val acc: 0.521764184439436\n",
            "\n",
            "Epoch 1\n",
            " train loss: 1.1933570400670417, train acc: 0.5795695678189642\n",
            " val loss: 1.1080740188030487, val acc: 0.6132092199427016\n",
            "\n",
            "Epoch 2\n",
            " train loss: 1.0630897505845622, train acc: 0.6295540611748286\n",
            " val loss: 1.110996097706734, val acc: 0.6154255319148936\n",
            "\n",
            "Epoch 3\n",
            " train loss: 0.9984882127432326, train acc: 0.6518061178475891\n",
            " val loss: 0.9796770519398629, val acc: 0.6624556739279565\n",
            "\n",
            "Epoch 4\n",
            " train loss: 0.9572134985566357, train acc: 0.6684798577585865\n",
            " val loss: 1.0026125694843049, val acc: 0.6491799646235527\n",
            "\n",
            "Epoch 5\n",
            " train loss: 0.9223821895431993, train acc: 0.6802363541705952\n",
            " val loss: 0.9307069027677496, val acc: 0.6740691489361702\n",
            "\n",
            "Epoch 6\n",
            " train loss: 0.9029422405106058, train acc: 0.6892547010285763\n",
            " val loss: 0.9657578295849739, val acc: 0.6660682624958931\n",
            "\n",
            "Epoch 7\n",
            " train loss: 0.8921169338431175, train acc: 0.6918173806105061\n",
            " val loss: 0.8904671547260691, val acc: 0.6925531914893617\n",
            "\n",
            "Epoch 8\n",
            " train loss: 0.8784803964974022, train acc: 0.6958246279024337\n",
            " val loss: 0.9012320026438287, val acc: 0.6950576241980208\n",
            "\n",
            "Epoch 9\n",
            " train loss: 0.8552270324618114, train acc: 0.701570253376551\n",
            " val loss: 0.863946008682251, val acc: 0.7062278369639782\n",
            "\n",
            "Epoch 10\n",
            " train loss: 0.7652617670064434, train acc: 0.7368642270456066\n",
            " val loss: 0.8018338886981314, val acc: 0.7260416667512123\n",
            "\n",
            "Epoch 11\n",
            " train loss: 0.75420988864611, train acc: 0.7408510708067927\n",
            " val loss: 0.795273113123914, val acc: 0.7298758866939139\n",
            "\n",
            "Epoch 12\n",
            " train loss: 0.7457105205743361, train acc: 0.7432423609920132\n",
            " val loss: 0.7932063323386171, val acc: 0.7315602837724888\n",
            "\n",
            "Epoch 13\n",
            " train loss: 0.741370504582386, train acc: 0.7470659768341664\n",
            " val loss: 0.7845189585330639, val acc: 0.7353723404255319\n",
            "\n",
            "Epoch 14\n",
            " train loss: 0.7398394871455442, train acc: 0.7459805106550074\n",
            " val loss: 0.7913080003667385, val acc: 0.7285239361702127\n",
            "\n",
            "Epoch 15\n",
            " train loss: 0.7277042639102971, train acc: 0.750603943681804\n",
            " val loss: 0.7820307746846625, val acc: 0.7339982271194458\n",
            "\n",
            "Epoch 16\n",
            " train loss: 0.7240045192145779, train acc: 0.7514690520340608\n",
            " val loss: 0.7787995952240965, val acc: 0.7339760638297872\n",
            "\n",
            "Epoch 17\n",
            " train loss: 0.7233998464927813, train acc: 0.7511303539249972\n",
            " val loss: 0.7794303802733725, val acc: 0.7357712765957447\n",
            "\n",
            "Epoch 18\n",
            " train loss: 0.7235170734103027, train acc: 0.7519709781711237\n",
            " val loss: 0.7790159716251048, val acc: 0.7341312058428501\n",
            "\n",
            "Epoch 19\n",
            " train loss: 0.7234357459235671, train acc: 0.7512446135228034\n",
            " val loss: 0.7797892177358586, val acc: 0.734906914893617\n",
            "\n"
          ]
        }
      ],
      "source": [
        "transform = transforms.Compose(\n",
        "        [transforms.RandomHorizontalFlip(),\n",
        "         transforms.ToTensor(),\n",
        "         transforms.Normalize((0.5, 0.5, 0.5), (0.5, 0.5, 0.5))]\n",
        ")\n",
        "\n",
        "train_loader, val_loader, test_loader = get_cifar10_data(batch_size=64, transform_train=transform)\n",
        "\n",
        "net = BasicBlockNet().to(device)\n",
        "optimizer = optim.SGD(net.parameters(), lr=0.1, momentum=0.9)\n",
        "scheduler = optim.lr_scheduler.MultiStepLR(optimizer, milestones=[10, 15], gamma=0.1)\n",
        "tr_loss_log, tr_acc_log, val_loss_log, val_acc_log = train(net, optimizer, 20, train_loader, val_loader, scheduler)"
      ]
    },
    {
      "cell_type": "markdown",
      "metadata": {
        "id": "v3ZIqDQqO9Dv"
      },
      "source": [
        "Посчитайте точность на тестовой выборке:"
      ]
    },
    {
      "cell_type": "code",
      "execution_count": 25,
      "metadata": {
        "id": "nNJizMkM_Auh",
        "colab": {
          "base_uri": "https://localhost:8080/"
        },
        "outputId": "d9e32e22-0423-4284-b436-787c4a36bf6e"
      },
      "outputs": [
        {
          "output_type": "stream",
          "name": "stdout",
          "text": [
            "0.7277070063694268\n"
          ]
        }
      ],
      "source": [
        "_, acc = test(net, test_loader)\n",
        "print(np.mean(acc))"
      ]
    },
    {
      "cell_type": "markdown",
      "metadata": {
        "id": "KndehSCHO9Dv"
      },
      "source": [
        "**Задание 4.1 (2 балла).** Изучите, какие еще способы аугментаций изображений представлены в <code>torchvision.transforms</code>. Выберите несколько из них, объясните, как они устроены, и обучите модель с ними (по отдельности и вместе). Удалось ли добиться улучшения качества на тестовой выборке?"
      ]
    },
    {
      "cell_type": "markdown",
      "source": [
        "**RandomPerspective**: изменяет положение пискселей так, что кажется, что изображение сделано под другим углом (сжимает/растягивает) - через матрицу преобразования вычисляет новую позицию пикселей. Степень искажения изображения задается гиперпараметром distortion_scale (от 0 до 1)."
      ],
      "metadata": {
        "id": "4He5xFPAXkWu"
      }
    },
    {
      "cell_type": "code",
      "source": [
        "wandb.init(project=\"dl1_hw2\", config={\"epochs\": 20}, name='rand_persp')"
      ],
      "metadata": {
        "colab": {
          "base_uri": "https://localhost:8080/",
          "height": 423,
          "referenced_widgets": [
            "23f2f3501da4437c849bc40e3a217a4c",
            "7c54159c1c5441a0a42664df16c481e5",
            "ed23d850df694fb7bd7851dc53f85df6",
            "33c90a993b684dca82ce85ae97737ff1",
            "b1b14cf784454facb08211dd28ae5999",
            "7b7c8d8dcc044006827e5a60eb4708a5",
            "d598e1b2fc384b518637fdcc018d854b",
            "b0693f98e9c44429b1b391bd8a95ebd2"
          ]
        },
        "id": "j1d5qWiaTA6N",
        "outputId": "f2455f1d-bcab-429c-f4f3-e1621eea570a"
      },
      "execution_count": 26,
      "outputs": [
        {
          "output_type": "display_data",
          "data": {
            "text/plain": [
              "<IPython.core.display.HTML object>"
            ],
            "text/html": [
              "Finishing last run (ID:hbi3nohx) before initializing another..."
            ]
          },
          "metadata": {}
        },
        {
          "output_type": "display_data",
          "data": {
            "text/plain": [
              "VBox(children=(Label(value='0.015 MB of 0.015 MB uploaded\\r'), FloatProgress(value=1.0, max=1.0)))"
            ],
            "application/vnd.jupyter.widget-view+json": {
              "version_major": 2,
              "version_minor": 0,
              "model_id": "23f2f3501da4437c849bc40e3a217a4c"
            }
          },
          "metadata": {}
        },
        {
          "output_type": "display_data",
          "data": {
            "text/plain": [
              "<IPython.core.display.HTML object>"
            ],
            "text/html": [
              "\n",
              "    <style>\n",
              "        .wandb-row {\n",
              "            display: flex;\n",
              "            flex-direction: row;\n",
              "            flex-wrap: wrap;\n",
              "            justify-content: flex-start;\n",
              "            width: 100%;\n",
              "        }\n",
              "        .wandb-col {\n",
              "            display: flex;\n",
              "            flex-direction: column;\n",
              "            flex-basis: 100%;\n",
              "            flex: 1;\n",
              "            padding: 10px;\n",
              "        }\n",
              "    </style>\n",
              "<div class=\"wandb-row\"><div class=\"wandb-col\"><h3>Run history:</h3><br/><table class=\"wandb\"><tr><td>epoch</td><td>▁▁▂▂▂▃▃▄▄▄▅▅▅▆▆▇▇▇██</td></tr><tr><td>train_accuracy</td><td>▁▄▅▆▆▆▆▇▇▇██████████</td></tr><tr><td>train_loss</td><td>█▅▄▄▃▃▃▃▂▂▁▁▁▁▁▁▁▁▁▁</td></tr><tr><td>val_accuracy</td><td>▁▄▄▆▅▆▆▇▇▇██████████</td></tr><tr><td>val_loss</td><td>█▅▅▄▄▃▃▂▃▂▁▁▁▁▁▁▁▁▁▁</td></tr></table><br/></div><div class=\"wandb-col\"><h3>Run summary:</h3><br/><table class=\"wandb\"><tr><td>epoch</td><td>19</td></tr><tr><td>train_accuracy</td><td>0.75124</td></tr><tr><td>train_loss</td><td>0.72344</td></tr><tr><td>val_accuracy</td><td>0.73491</td></tr><tr><td>val_loss</td><td>0.77979</td></tr></table><br/></div></div>"
            ]
          },
          "metadata": {}
        },
        {
          "output_type": "display_data",
          "data": {
            "text/plain": [
              "<IPython.core.display.HTML object>"
            ],
            "text/html": [
              " View run <strong style=\"color:#cdcd00\">horizontal_flip</strong> at: <a href='https://wandb.ai/verabuylova-nes/dl1_hw2/runs/hbi3nohx' target=\"_blank\">https://wandb.ai/verabuylova-nes/dl1_hw2/runs/hbi3nohx</a><br/> View project at: <a href='https://wandb.ai/verabuylova-nes/dl1_hw2' target=\"_blank\">https://wandb.ai/verabuylova-nes/dl1_hw2</a><br/>Synced 5 W&B file(s), 0 media file(s), 0 artifact file(s) and 0 other file(s)"
            ]
          },
          "metadata": {}
        },
        {
          "output_type": "display_data",
          "data": {
            "text/plain": [
              "<IPython.core.display.HTML object>"
            ],
            "text/html": [
              "Find logs at: <code>./wandb/run-20241119_165446-hbi3nohx/logs</code>"
            ]
          },
          "metadata": {}
        },
        {
          "output_type": "display_data",
          "data": {
            "text/plain": [
              "<IPython.core.display.HTML object>"
            ],
            "text/html": [
              "Successfully finished last run (ID:hbi3nohx). Initializing new run:<br/>"
            ]
          },
          "metadata": {}
        },
        {
          "output_type": "display_data",
          "data": {
            "text/plain": [
              "<IPython.core.display.HTML object>"
            ],
            "text/html": [
              "Tracking run with wandb version 0.18.7"
            ]
          },
          "metadata": {}
        },
        {
          "output_type": "display_data",
          "data": {
            "text/plain": [
              "<IPython.core.display.HTML object>"
            ],
            "text/html": [
              "Run data is saved locally in <code>/content/wandb/run-20241119_170130-gidmtlb4</code>"
            ]
          },
          "metadata": {}
        },
        {
          "output_type": "display_data",
          "data": {
            "text/plain": [
              "<IPython.core.display.HTML object>"
            ],
            "text/html": [
              "Syncing run <strong><a href='https://wandb.ai/verabuylova-nes/dl1_hw2/runs/gidmtlb4' target=\"_blank\">rand_persp</a></strong> to <a href='https://wandb.ai/verabuylova-nes/dl1_hw2' target=\"_blank\">Weights & Biases</a> (<a href='https://wandb.me/developer-guide' target=\"_blank\">docs</a>)<br/>"
            ]
          },
          "metadata": {}
        },
        {
          "output_type": "display_data",
          "data": {
            "text/plain": [
              "<IPython.core.display.HTML object>"
            ],
            "text/html": [
              " View project at <a href='https://wandb.ai/verabuylova-nes/dl1_hw2' target=\"_blank\">https://wandb.ai/verabuylova-nes/dl1_hw2</a>"
            ]
          },
          "metadata": {}
        },
        {
          "output_type": "display_data",
          "data": {
            "text/plain": [
              "<IPython.core.display.HTML object>"
            ],
            "text/html": [
              " View run at <a href='https://wandb.ai/verabuylova-nes/dl1_hw2/runs/gidmtlb4' target=\"_blank\">https://wandb.ai/verabuylova-nes/dl1_hw2/runs/gidmtlb4</a>"
            ]
          },
          "metadata": {}
        },
        {
          "output_type": "execute_result",
          "data": {
            "text/html": [
              "<button onClick=\"this.nextSibling.style.display='block';this.style.display='none';\">Display W&B run</button><iframe src='https://wandb.ai/verabuylova-nes/dl1_hw2/runs/gidmtlb4?jupyter=true' style='border:none;width:100%;height:420px;display:none;'></iframe>"
            ],
            "text/plain": [
              "<wandb.sdk.wandb_run.Run at 0x7b24aa320a00>"
            ]
          },
          "metadata": {},
          "execution_count": 26
        }
      ]
    },
    {
      "cell_type": "code",
      "execution_count": 27,
      "metadata": {
        "colab": {
          "base_uri": "https://localhost:8080/"
        },
        "id": "Np4rgvdZ_QRF",
        "outputId": "c8c974a2-7a9b-47f8-bb73-9554dbf15b42"
      },
      "outputs": [
        {
          "output_type": "stream",
          "name": "stdout",
          "text": [
            "Files already downloaded and verified\n",
            "Files already downloaded and verified\n",
            "Epoch 0\n",
            " train loss: 1.7013073168027553, train acc: 0.3796479172418933\n",
            " val loss: 1.5225112047601252, val acc: 0.44261968085106385\n",
            "\n",
            "Epoch 1\n",
            " train loss: 1.4557206611092828, train acc: 0.4763196983546618\n",
            " val loss: 1.3592475769367625, val acc: 0.5133421986661059\n",
            "\n",
            "Epoch 2\n",
            " train loss: 1.317621669886971, train acc: 0.532580308221158\n",
            " val loss: 1.2582745316180777, val acc: 0.5623670212765958\n",
            "\n",
            "Epoch 3\n",
            " train loss: 1.2303690452680291, train acc: 0.564866805970124\n",
            " val loss: 1.1884340222845686, val acc: 0.5848182624958931\n",
            "\n",
            "Epoch 4\n",
            " train loss: 1.1791093753722293, train acc: 0.5856987791479833\n",
            " val loss: 1.351678353928505, val acc: 0.5392065603682336\n",
            "\n",
            "Epoch 5\n",
            " train loss: 1.1481595257300563, train acc: 0.597765408769604\n",
            " val loss: 1.147330724939387, val acc: 0.5975177305809996\n",
            "\n",
            "Epoch 6\n",
            " train loss: 1.1230069184216112, train acc: 0.6051188299817185\n",
            " val loss: 1.119402241706848, val acc: 0.6063164893617021\n",
            "\n",
            "Epoch 7\n",
            " train loss: 1.1024596459033067, train acc: 0.6131904544734432\n",
            " val loss: 1.124661537941466, val acc: 0.6037898936170213\n",
            "\n",
            "Epoch 8\n",
            " train loss: 1.078818348687571, train acc: 0.6219068294905221\n",
            " val loss: 1.0814532061840625, val acc: 0.6188829787234043\n",
            "\n",
            "Epoch 9\n",
            " train loss: 1.058930349306389, train acc: 0.6249183860949667\n",
            " val loss: 1.112631039670173, val acc: 0.6146719859001485\n",
            "\n",
            "Epoch 10\n",
            " train loss: 0.9630658596045792, train acc: 0.6621343692870201\n",
            " val loss: 0.9988205628192172, val acc: 0.6517952127659574\n",
            "\n",
            "Epoch 11\n",
            " train loss: 0.952530039184926, train acc: 0.6681778859176845\n",
            " val loss: 0.9858733570322077, val acc: 0.6552748228641266\n",
            "\n",
            "Epoch 12\n",
            " train loss: 0.9377071227626347, train acc: 0.6750171390486374\n",
            " val loss: 0.9894073438137135, val acc: 0.6566267731341909\n",
            "\n",
            "Epoch 13\n",
            " train loss: 0.9343677418105563, train acc: 0.6731155328384483\n",
            " val loss: 0.9763147770090306, val acc: 0.6627881207364671\n",
            "\n",
            "Epoch 14\n",
            " train loss: 0.9303123977110198, train acc: 0.6756700509427016\n",
            " val loss: 0.974381914290976, val acc: 0.6639627659574469\n",
            "\n",
            "Epoch 15\n",
            " train loss: 0.9194784145904416, train acc: 0.6791019196702096\n",
            " val loss: 0.9657404448123689, val acc: 0.6675310284533399\n",
            "\n",
            "Epoch 16\n",
            " train loss: 0.914926189391225, train acc: 0.6829092126659763\n",
            " val loss: 0.9604255224796052, val acc: 0.666378546268382\n",
            "\n",
            "Epoch 17\n",
            " train loss: 0.9200936566759071, train acc: 0.67903662839363\n",
            " val loss: 0.9644897189546139, val acc: 0.6687056739279564\n",
            "\n",
            "Epoch 18\n",
            " train loss: 0.9185493793304486, train acc: 0.6824562549591064\n",
            " val loss: 0.96905387513181, val acc: 0.668439716481148\n",
            "\n",
            "Epoch 19\n",
            " train loss: 0.9151647970271067, train acc: 0.6795099896312414\n",
            " val loss: 0.9595346453342032, val acc: 0.6700576241980207\n",
            "\n"
          ]
        }
      ],
      "source": [
        "transform = transforms.Compose(\n",
        "        [transforms.RandomPerspective(),\n",
        "         transforms.ToTensor(),\n",
        "         transforms.Normalize((0.5, 0.5, 0.5), (0.5, 0.5, 0.5))]\n",
        ")\n",
        "\n",
        "train_loader, val_loader, test_loader = get_cifar10_data(batch_size=64, transform_train=transform)\n",
        "\n",
        "net = BasicBlockNet().to(device)\n",
        "optimizer = optim.SGD(net.parameters(), lr=0.1, momentum=0.9)\n",
        "scheduler = optim.lr_scheduler.MultiStepLR(optimizer, milestones=[10, 15], gamma=0.1)\n",
        "tr_loss_log, tr_acc_log, val_loss_log, val_acc_log = train(net, optimizer, 20, train_loader, val_loader, scheduler)"
      ]
    },
    {
      "cell_type": "markdown",
      "source": [
        "**ColorJitter**: случайно изменяет цветовые параметры картинки, перенося их в заданный диапазон. Гиперпараметры (от 0 до 1, итоговый параметр картинки будет в пределах [1 - a, 1 + a], где a - гиперпараметр): brightness (яркость), contrast (контраст), saturation (насыщенность), hue (диапазон изменения оттенков)."
      ],
      "metadata": {
        "id": "dkHiCrURYHXI"
      }
    },
    {
      "cell_type": "code",
      "source": [
        "_, acc = test(net, test_loader)\n",
        "print(np.mean(acc))"
      ],
      "metadata": {
        "colab": {
          "base_uri": "https://localhost:8080/"
        },
        "id": "jgGCnggHTysq",
        "outputId": "3b6b550c-c8d2-4dc5-8e25-be0baaed8e33"
      },
      "execution_count": 28,
      "outputs": [
        {
          "output_type": "stream",
          "name": "stdout",
          "text": [
            "0.7053144904458599\n"
          ]
        }
      ]
    },
    {
      "cell_type": "code",
      "source": [
        "wandb.init(project=\"dl1_hw2\", config={\"epochs\": 20}, name='color_jitter')"
      ],
      "metadata": {
        "colab": {
          "base_uri": "https://localhost:8080/",
          "height": 423
        },
        "id": "sUrICVwWTQCt",
        "outputId": "ba637c0b-9a60-4340-c9d0-1266bab7ceb2"
      },
      "execution_count": 29,
      "outputs": [
        {
          "output_type": "display_data",
          "data": {
            "text/plain": [
              "<IPython.core.display.HTML object>"
            ],
            "text/html": [
              "Finishing last run (ID:gidmtlb4) before initializing another..."
            ]
          },
          "metadata": {}
        },
        {
          "output_type": "display_data",
          "data": {
            "text/plain": [
              "<IPython.core.display.HTML object>"
            ],
            "text/html": [
              "\n",
              "    <style>\n",
              "        .wandb-row {\n",
              "            display: flex;\n",
              "            flex-direction: row;\n",
              "            flex-wrap: wrap;\n",
              "            justify-content: flex-start;\n",
              "            width: 100%;\n",
              "        }\n",
              "        .wandb-col {\n",
              "            display: flex;\n",
              "            flex-direction: column;\n",
              "            flex-basis: 100%;\n",
              "            flex: 1;\n",
              "            padding: 10px;\n",
              "        }\n",
              "    </style>\n",
              "<div class=\"wandb-row\"><div class=\"wandb-col\"><h3>Run history:</h3><br/><table class=\"wandb\"><tr><td>epoch</td><td>▁▁▂▂▂▃▃▄▄▄▅▅▅▆▆▇▇▇██</td></tr><tr><td>train_accuracy</td><td>▁▃▅▅▆▆▆▆▇▇██████████</td></tr><tr><td>train_loss</td><td>█▆▅▄▃▃▃▃▂▂▁▁▁▁▁▁▁▁▁▁</td></tr><tr><td>val_accuracy</td><td>▁▃▅▅▄▆▆▆▆▆▇█████████</td></tr><tr><td>val_loss</td><td>█▆▅▄▆▃▃▃▃▃▁▁▁▁▁▁▁▁▁▁</td></tr></table><br/></div><div class=\"wandb-col\"><h3>Run summary:</h3><br/><table class=\"wandb\"><tr><td>epoch</td><td>19</td></tr><tr><td>train_accuracy</td><td>0.67951</td></tr><tr><td>train_loss</td><td>0.91516</td></tr><tr><td>val_accuracy</td><td>0.67006</td></tr><tr><td>val_loss</td><td>0.95953</td></tr></table><br/></div></div>"
            ]
          },
          "metadata": {}
        },
        {
          "output_type": "display_data",
          "data": {
            "text/plain": [
              "<IPython.core.display.HTML object>"
            ],
            "text/html": [
              " View run <strong style=\"color:#cdcd00\">rand_persp</strong> at: <a href='https://wandb.ai/verabuylova-nes/dl1_hw2/runs/gidmtlb4' target=\"_blank\">https://wandb.ai/verabuylova-nes/dl1_hw2/runs/gidmtlb4</a><br/> View project at: <a href='https://wandb.ai/verabuylova-nes/dl1_hw2' target=\"_blank\">https://wandb.ai/verabuylova-nes/dl1_hw2</a><br/>Synced 5 W&B file(s), 0 media file(s), 0 artifact file(s) and 0 other file(s)"
            ]
          },
          "metadata": {}
        },
        {
          "output_type": "display_data",
          "data": {
            "text/plain": [
              "<IPython.core.display.HTML object>"
            ],
            "text/html": [
              "Find logs at: <code>./wandb/run-20241119_170130-gidmtlb4/logs</code>"
            ]
          },
          "metadata": {}
        },
        {
          "output_type": "display_data",
          "data": {
            "text/plain": [
              "<IPython.core.display.HTML object>"
            ],
            "text/html": [
              "Successfully finished last run (ID:gidmtlb4). Initializing new run:<br/>"
            ]
          },
          "metadata": {}
        },
        {
          "output_type": "display_data",
          "data": {
            "text/plain": [
              "<IPython.core.display.HTML object>"
            ],
            "text/html": [
              "Tracking run with wandb version 0.18.7"
            ]
          },
          "metadata": {}
        },
        {
          "output_type": "display_data",
          "data": {
            "text/plain": [
              "<IPython.core.display.HTML object>"
            ],
            "text/html": [
              "Run data is saved locally in <code>/content/wandb/run-20241119_171138-69xnqly9</code>"
            ]
          },
          "metadata": {}
        },
        {
          "output_type": "display_data",
          "data": {
            "text/plain": [
              "<IPython.core.display.HTML object>"
            ],
            "text/html": [
              "Syncing run <strong><a href='https://wandb.ai/verabuylova-nes/dl1_hw2/runs/69xnqly9' target=\"_blank\">color_jitter</a></strong> to <a href='https://wandb.ai/verabuylova-nes/dl1_hw2' target=\"_blank\">Weights & Biases</a> (<a href='https://wandb.me/developer-guide' target=\"_blank\">docs</a>)<br/>"
            ]
          },
          "metadata": {}
        },
        {
          "output_type": "display_data",
          "data": {
            "text/plain": [
              "<IPython.core.display.HTML object>"
            ],
            "text/html": [
              " View project at <a href='https://wandb.ai/verabuylova-nes/dl1_hw2' target=\"_blank\">https://wandb.ai/verabuylova-nes/dl1_hw2</a>"
            ]
          },
          "metadata": {}
        },
        {
          "output_type": "display_data",
          "data": {
            "text/plain": [
              "<IPython.core.display.HTML object>"
            ],
            "text/html": [
              " View run at <a href='https://wandb.ai/verabuylova-nes/dl1_hw2/runs/69xnqly9' target=\"_blank\">https://wandb.ai/verabuylova-nes/dl1_hw2/runs/69xnqly9</a>"
            ]
          },
          "metadata": {}
        },
        {
          "output_type": "execute_result",
          "data": {
            "text/html": [
              "<button onClick=\"this.nextSibling.style.display='block';this.style.display='none';\">Display W&B run</button><iframe src='https://wandb.ai/verabuylova-nes/dl1_hw2/runs/69xnqly9?jupyter=true' style='border:none;width:100%;height:420px;display:none;'></iframe>"
            ],
            "text/plain": [
              "<wandb.sdk.wandb_run.Run at 0x7b24aa13e920>"
            ]
          },
          "metadata": {},
          "execution_count": 29
        }
      ]
    },
    {
      "cell_type": "code",
      "source": [
        "transform = transforms.Compose(\n",
        "        [transforms.ColorJitter(brightness=0.3, contrast=0.3, saturation=0.3, hue=0.3),\n",
        "         transforms.ToTensor(),\n",
        "         transforms.Normalize((0.5, 0.5, 0.5), (0.5, 0.5, 0.5))]\n",
        ")\n",
        "\n",
        "train_loader, val_loader, test_loader = get_cifar10_data(batch_size=64, transform_train=transform)\n",
        "\n",
        "net = BasicBlockNet().to(device)\n",
        "optimizer = optim.SGD(net.parameters(), lr=0.1, momentum=0.9)\n",
        "scheduler = optim.lr_scheduler.MultiStepLR(optimizer, milestones=[10, 15], gamma=0.1)\n",
        "tr_loss_log, tr_acc_log, val_loss_log, val_acc_log = train(net, optimizer, 20, train_loader, val_loader, scheduler)"
      ],
      "metadata": {
        "colab": {
          "base_uri": "https://localhost:8080/"
        },
        "id": "CrJ8MW2JTbtU",
        "outputId": "0bf40c7e-396d-425e-d49b-2df87e7af75c"
      },
      "execution_count": 30,
      "outputs": [
        {
          "output_type": "stream",
          "name": "stdout",
          "text": [
            "Files already downloaded and verified\n",
            "Files already downloaded and verified\n",
            "Epoch 0\n",
            " train loss: 1.6589464868880277, train acc: 0.41218333771721316\n",
            " val loss: 1.4342835887949517, val acc: 0.49361702127659574\n",
            "\n",
            "Epoch 1\n",
            " train loss: 1.313622122817763, train acc: 0.5455487725721635\n",
            " val loss: 1.2209739887968023, val acc: 0.5761524823117763\n",
            "\n",
            "Epoch 2\n",
            " train loss: 1.1964230613691063, train acc: 0.5842746148597606\n",
            " val loss: 1.1863440434983437, val acc: 0.5941046100981692\n",
            "\n",
            "Epoch 3\n",
            " train loss: 1.1323232092848643, train acc: 0.6109297467324154\n",
            " val loss: 1.234246337160151, val acc: 0.5808067376309253\n",
            "\n",
            "Epoch 4\n",
            " train loss: 1.0887511770293743, train acc: 0.6241185689103232\n",
            " val loss: 1.1474099144022516, val acc: 0.6035682624958931\n",
            "\n",
            "Epoch 5\n",
            " train loss: 1.051976668442407, train acc: 0.6383316466751656\n",
            " val loss: 1.060562501055129, val acc: 0.6379432624958931\n",
            "\n",
            "Epoch 6\n",
            " train loss: 1.0240358924952895, train acc: 0.6449138157110545\n",
            " val loss: 1.0710314410798094, val acc: 0.6245567376309252\n",
            "\n",
            "Epoch 7\n",
            " train loss: 1.0108547231396983, train acc: 0.6502880974923017\n",
            " val loss: 1.0997394216821548, val acc: 0.619126773134191\n",
            "\n",
            "Epoch 8\n",
            " train loss: 0.9969730967795392, train acc: 0.6549360146252285\n",
            " val loss: 1.0157167561510776, val acc: 0.6499113476022761\n",
            "\n",
            "Epoch 9\n",
            " train loss: 0.9756147852763397, train acc: 0.6656192870201096\n",
            " val loss: 1.006296301395335, val acc: 0.6566932624958931\n",
            "\n",
            "Epoch 10\n",
            " train loss: 0.8748312155550969, train acc: 0.7010152782339064\n",
            " val loss: 0.9331516910106578, val acc: 0.6836436170212766\n",
            "\n",
            "Epoch 11\n",
            " train loss: 0.8596061518793786, train acc: 0.7064548511827667\n",
            " val loss: 0.9274909557180202, val acc: 0.6808953901554676\n",
            "\n",
            "Epoch 12\n",
            " train loss: 0.8524099938176449, train acc: 0.7079606294849891\n",
            " val loss: 0.9229715628826872, val acc: 0.6839539007937655\n",
            "\n",
            "Epoch 13\n",
            " train loss: 0.8463648018823899, train acc: 0.7122780099865288\n",
            " val loss: 0.917531119762583, val acc: 0.6855274824385947\n",
            "\n",
            "Epoch 14\n",
            " train loss: 0.8433504464203523, train acc: 0.7123310591010769\n",
            " val loss: 0.9172172713786998, val acc: 0.6888519505237011\n",
            "\n",
            "Epoch 15\n",
            " train loss: 0.8313483039029556, train acc: 0.7152242753143938\n",
            " val loss: 0.90699221859587, val acc: 0.6898492909492331\n",
            "\n",
            "Epoch 16\n",
            " train loss: 0.8264547078657412, train acc: 0.7172523831754541\n",
            " val loss: 0.9097640704601369, val acc: 0.6884973404255319\n",
            "\n",
            "Epoch 17\n",
            " train loss: 0.8310327714060517, train acc: 0.715081450817136\n",
            " val loss: 0.9062006252877256, val acc: 0.6891843973322117\n",
            "\n",
            "Epoch 18\n",
            " train loss: 0.8255206653797212, train acc: 0.7168932816446154\n",
            " val loss: 0.9068459873503827, val acc: 0.6896719859001484\n",
            "\n",
            "Epoch 19\n",
            " train loss: 0.8271359910258863, train acc: 0.7198395469724805\n",
            " val loss: 0.9094434383067679, val acc: 0.6898936170212766\n",
            "\n"
          ]
        }
      ]
    },
    {
      "cell_type": "code",
      "source": [
        "_, acc = test(net, test_loader)\n",
        "print(np.mean(acc))"
      ],
      "metadata": {
        "colab": {
          "base_uri": "https://localhost:8080/"
        },
        "id": "755WJxZMTzoB",
        "outputId": "48fa80f3-18c9-48b7-9780-cffd528e92f2"
      },
      "execution_count": 31,
      "outputs": [
        {
          "output_type": "stream",
          "name": "stdout",
          "text": [
            "0.7047173566878981\n"
          ]
        }
      ]
    },
    {
      "cell_type": "markdown",
      "metadata": {
        "id": "HCENjLw5O9Dv"
      },
      "source": [
        "## Бонус. Логирование в wandb (2 балла)"
      ]
    },
    {
      "cell_type": "markdown",
      "metadata": {
        "id": "xOyzc1mnO9Dv"
      },
      "source": [
        "На практике специалиста по глубинному обучению часто встречаются ситуации, когда нейросеть учится на каком-то удаленном сервере. И обычно вам хочется отслеживать прогресс обучения, особенно когда время обучения модели исчисляется днями или неделями. Для таких целей существует несколько инструментов. Вероятно, самый популярный из них — [wandb](https://wandb.ai/site).\n",
        "\n",
        "Ваша задача состоит в том, чтобы разобраться как им пользоваться, и повторить задания 2.1 и 2.2 с его использованием. Обучение вы можете запускать в этом же ноутбуке, но теперь вам необходимо через wandb логировать значения функции потерь и точности на обучающей выборке и на валидационной. Результатом работы должны быть ваш код и публичная ссылка на страничку с графиками, идентичными графикам в задании 2.2."
      ]
    },
    {
      "cell_type": "markdown",
      "source": [
        "https://wandb.ai/verabuylova-nes/dl1_hw2?nw=nwuserverabuylova"
      ],
      "metadata": {
        "id": "qUVLj99_Xe6T"
      }
    }
  ],
  "metadata": {
    "accelerator": "GPU",
    "colab": {
      "provenance": []
    },
    "kernelspec": {
      "display_name": "Python 3 (ipykernel)",
      "language": "python",
      "name": "python3"
    },
    "language_info": {
      "codemirror_mode": {
        "name": "ipython",
        "version": 3
      },
      "file_extension": ".py",
      "mimetype": "text/x-python",
      "name": "python",
      "nbconvert_exporter": "python",
      "pygments_lexer": "ipython3",
      "version": "3.9.6"
    },
    "widgets": {
      "application/vnd.jupyter.widget-state+json": {
        "66a1c1f13bed4013b57a1703f9d1529e": {
          "model_module": "@jupyter-widgets/controls",
          "model_name": "VBoxModel",
          "model_module_version": "1.5.0",
          "state": {
            "_dom_classes": [],
            "_model_module": "@jupyter-widgets/controls",
            "_model_module_version": "1.5.0",
            "_model_name": "VBoxModel",
            "_view_count": null,
            "_view_module": "@jupyter-widgets/controls",
            "_view_module_version": "1.5.0",
            "_view_name": "VBoxView",
            "box_style": "",
            "children": [
              "IPY_MODEL_a5765bcedd5b41ea979259fd141fe73e",
              "IPY_MODEL_47645c0a03ee422089d5899f16440fce"
            ],
            "layout": "IPY_MODEL_cc749f14fcaa42849b88554d4577506a"
          }
        },
        "a5765bcedd5b41ea979259fd141fe73e": {
          "model_module": "@jupyter-widgets/controls",
          "model_name": "LabelModel",
          "model_module_version": "1.5.0",
          "state": {
            "_dom_classes": [],
            "_model_module": "@jupyter-widgets/controls",
            "_model_module_version": "1.5.0",
            "_model_name": "LabelModel",
            "_view_count": null,
            "_view_module": "@jupyter-widgets/controls",
            "_view_module_version": "1.5.0",
            "_view_name": "LabelView",
            "description": "",
            "description_tooltip": null,
            "layout": "IPY_MODEL_6a38934f3ee54ec79ac43c81a3e81574",
            "placeholder": "​",
            "style": "IPY_MODEL_df180b8d633b41c68eac5f19f5eb713e",
            "value": "0.012 MB of 0.012 MB uploaded\r"
          }
        },
        "47645c0a03ee422089d5899f16440fce": {
          "model_module": "@jupyter-widgets/controls",
          "model_name": "FloatProgressModel",
          "model_module_version": "1.5.0",
          "state": {
            "_dom_classes": [],
            "_model_module": "@jupyter-widgets/controls",
            "_model_module_version": "1.5.0",
            "_model_name": "FloatProgressModel",
            "_view_count": null,
            "_view_module": "@jupyter-widgets/controls",
            "_view_module_version": "1.5.0",
            "_view_name": "ProgressView",
            "bar_style": "",
            "description": "",
            "description_tooltip": null,
            "layout": "IPY_MODEL_e947390d075e48109ec11fb09d1321c4",
            "max": 1,
            "min": 0,
            "orientation": "horizontal",
            "style": "IPY_MODEL_f2c46f05a3dd41a8b99126f1f2b50f88",
            "value": 1
          }
        },
        "cc749f14fcaa42849b88554d4577506a": {
          "model_module": "@jupyter-widgets/base",
          "model_name": "LayoutModel",
          "model_module_version": "1.2.0",
          "state": {
            "_model_module": "@jupyter-widgets/base",
            "_model_module_version": "1.2.0",
            "_model_name": "LayoutModel",
            "_view_count": null,
            "_view_module": "@jupyter-widgets/base",
            "_view_module_version": "1.2.0",
            "_view_name": "LayoutView",
            "align_content": null,
            "align_items": null,
            "align_self": null,
            "border": null,
            "bottom": null,
            "display": null,
            "flex": null,
            "flex_flow": null,
            "grid_area": null,
            "grid_auto_columns": null,
            "grid_auto_flow": null,
            "grid_auto_rows": null,
            "grid_column": null,
            "grid_gap": null,
            "grid_row": null,
            "grid_template_areas": null,
            "grid_template_columns": null,
            "grid_template_rows": null,
            "height": null,
            "justify_content": null,
            "justify_items": null,
            "left": null,
            "margin": null,
            "max_height": null,
            "max_width": null,
            "min_height": null,
            "min_width": null,
            "object_fit": null,
            "object_position": null,
            "order": null,
            "overflow": null,
            "overflow_x": null,
            "overflow_y": null,
            "padding": null,
            "right": null,
            "top": null,
            "visibility": null,
            "width": null
          }
        },
        "6a38934f3ee54ec79ac43c81a3e81574": {
          "model_module": "@jupyter-widgets/base",
          "model_name": "LayoutModel",
          "model_module_version": "1.2.0",
          "state": {
            "_model_module": "@jupyter-widgets/base",
            "_model_module_version": "1.2.0",
            "_model_name": "LayoutModel",
            "_view_count": null,
            "_view_module": "@jupyter-widgets/base",
            "_view_module_version": "1.2.0",
            "_view_name": "LayoutView",
            "align_content": null,
            "align_items": null,
            "align_self": null,
            "border": null,
            "bottom": null,
            "display": null,
            "flex": null,
            "flex_flow": null,
            "grid_area": null,
            "grid_auto_columns": null,
            "grid_auto_flow": null,
            "grid_auto_rows": null,
            "grid_column": null,
            "grid_gap": null,
            "grid_row": null,
            "grid_template_areas": null,
            "grid_template_columns": null,
            "grid_template_rows": null,
            "height": null,
            "justify_content": null,
            "justify_items": null,
            "left": null,
            "margin": null,
            "max_height": null,
            "max_width": null,
            "min_height": null,
            "min_width": null,
            "object_fit": null,
            "object_position": null,
            "order": null,
            "overflow": null,
            "overflow_x": null,
            "overflow_y": null,
            "padding": null,
            "right": null,
            "top": null,
            "visibility": null,
            "width": null
          }
        },
        "df180b8d633b41c68eac5f19f5eb713e": {
          "model_module": "@jupyter-widgets/controls",
          "model_name": "DescriptionStyleModel",
          "model_module_version": "1.5.0",
          "state": {
            "_model_module": "@jupyter-widgets/controls",
            "_model_module_version": "1.5.0",
            "_model_name": "DescriptionStyleModel",
            "_view_count": null,
            "_view_module": "@jupyter-widgets/base",
            "_view_module_version": "1.2.0",
            "_view_name": "StyleView",
            "description_width": ""
          }
        },
        "e947390d075e48109ec11fb09d1321c4": {
          "model_module": "@jupyter-widgets/base",
          "model_name": "LayoutModel",
          "model_module_version": "1.2.0",
          "state": {
            "_model_module": "@jupyter-widgets/base",
            "_model_module_version": "1.2.0",
            "_model_name": "LayoutModel",
            "_view_count": null,
            "_view_module": "@jupyter-widgets/base",
            "_view_module_version": "1.2.0",
            "_view_name": "LayoutView",
            "align_content": null,
            "align_items": null,
            "align_self": null,
            "border": null,
            "bottom": null,
            "display": null,
            "flex": null,
            "flex_flow": null,
            "grid_area": null,
            "grid_auto_columns": null,
            "grid_auto_flow": null,
            "grid_auto_rows": null,
            "grid_column": null,
            "grid_gap": null,
            "grid_row": null,
            "grid_template_areas": null,
            "grid_template_columns": null,
            "grid_template_rows": null,
            "height": null,
            "justify_content": null,
            "justify_items": null,
            "left": null,
            "margin": null,
            "max_height": null,
            "max_width": null,
            "min_height": null,
            "min_width": null,
            "object_fit": null,
            "object_position": null,
            "order": null,
            "overflow": null,
            "overflow_x": null,
            "overflow_y": null,
            "padding": null,
            "right": null,
            "top": null,
            "visibility": null,
            "width": null
          }
        },
        "f2c46f05a3dd41a8b99126f1f2b50f88": {
          "model_module": "@jupyter-widgets/controls",
          "model_name": "ProgressStyleModel",
          "model_module_version": "1.5.0",
          "state": {
            "_model_module": "@jupyter-widgets/controls",
            "_model_module_version": "1.5.0",
            "_model_name": "ProgressStyleModel",
            "_view_count": null,
            "_view_module": "@jupyter-widgets/base",
            "_view_module_version": "1.2.0",
            "_view_name": "StyleView",
            "bar_color": null,
            "description_width": ""
          }
        },
        "08078a7cca3a40bcb14321df785d0244": {
          "model_module": "@jupyter-widgets/controls",
          "model_name": "VBoxModel",
          "model_module_version": "1.5.0",
          "state": {
            "_dom_classes": [],
            "_model_module": "@jupyter-widgets/controls",
            "_model_module_version": "1.5.0",
            "_model_name": "VBoxModel",
            "_view_count": null,
            "_view_module": "@jupyter-widgets/controls",
            "_view_module_version": "1.5.0",
            "_view_name": "VBoxView",
            "box_style": "",
            "children": [
              "IPY_MODEL_cc62770097c941348268dadea8d94deb",
              "IPY_MODEL_b9cbd24ad47348c49d94910c8adb1956"
            ],
            "layout": "IPY_MODEL_98d5e01e335641c781f26a6eec8f5d74"
          }
        },
        "cc62770097c941348268dadea8d94deb": {
          "model_module": "@jupyter-widgets/controls",
          "model_name": "LabelModel",
          "model_module_version": "1.5.0",
          "state": {
            "_dom_classes": [],
            "_model_module": "@jupyter-widgets/controls",
            "_model_module_version": "1.5.0",
            "_model_name": "LabelModel",
            "_view_count": null,
            "_view_module": "@jupyter-widgets/controls",
            "_view_module_version": "1.5.0",
            "_view_name": "LabelView",
            "description": "",
            "description_tooltip": null,
            "layout": "IPY_MODEL_6c9ba9a1facf4f3599929ed297a6dd72",
            "placeholder": "​",
            "style": "IPY_MODEL_893ec12c7f354c37b220919cb7643637",
            "value": "0.015 MB of 0.015 MB uploaded\r"
          }
        },
        "b9cbd24ad47348c49d94910c8adb1956": {
          "model_module": "@jupyter-widgets/controls",
          "model_name": "FloatProgressModel",
          "model_module_version": "1.5.0",
          "state": {
            "_dom_classes": [],
            "_model_module": "@jupyter-widgets/controls",
            "_model_module_version": "1.5.0",
            "_model_name": "FloatProgressModel",
            "_view_count": null,
            "_view_module": "@jupyter-widgets/controls",
            "_view_module_version": "1.5.0",
            "_view_name": "ProgressView",
            "bar_style": "",
            "description": "",
            "description_tooltip": null,
            "layout": "IPY_MODEL_fce679bf63b846e4bb1bffe9461e5066",
            "max": 1,
            "min": 0,
            "orientation": "horizontal",
            "style": "IPY_MODEL_07b319cb0f2d45bc8ef71558243bd543",
            "value": 1
          }
        },
        "98d5e01e335641c781f26a6eec8f5d74": {
          "model_module": "@jupyter-widgets/base",
          "model_name": "LayoutModel",
          "model_module_version": "1.2.0",
          "state": {
            "_model_module": "@jupyter-widgets/base",
            "_model_module_version": "1.2.0",
            "_model_name": "LayoutModel",
            "_view_count": null,
            "_view_module": "@jupyter-widgets/base",
            "_view_module_version": "1.2.0",
            "_view_name": "LayoutView",
            "align_content": null,
            "align_items": null,
            "align_self": null,
            "border": null,
            "bottom": null,
            "display": null,
            "flex": null,
            "flex_flow": null,
            "grid_area": null,
            "grid_auto_columns": null,
            "grid_auto_flow": null,
            "grid_auto_rows": null,
            "grid_column": null,
            "grid_gap": null,
            "grid_row": null,
            "grid_template_areas": null,
            "grid_template_columns": null,
            "grid_template_rows": null,
            "height": null,
            "justify_content": null,
            "justify_items": null,
            "left": null,
            "margin": null,
            "max_height": null,
            "max_width": null,
            "min_height": null,
            "min_width": null,
            "object_fit": null,
            "object_position": null,
            "order": null,
            "overflow": null,
            "overflow_x": null,
            "overflow_y": null,
            "padding": null,
            "right": null,
            "top": null,
            "visibility": null,
            "width": null
          }
        },
        "6c9ba9a1facf4f3599929ed297a6dd72": {
          "model_module": "@jupyter-widgets/base",
          "model_name": "LayoutModel",
          "model_module_version": "1.2.0",
          "state": {
            "_model_module": "@jupyter-widgets/base",
            "_model_module_version": "1.2.0",
            "_model_name": "LayoutModel",
            "_view_count": null,
            "_view_module": "@jupyter-widgets/base",
            "_view_module_version": "1.2.0",
            "_view_name": "LayoutView",
            "align_content": null,
            "align_items": null,
            "align_self": null,
            "border": null,
            "bottom": null,
            "display": null,
            "flex": null,
            "flex_flow": null,
            "grid_area": null,
            "grid_auto_columns": null,
            "grid_auto_flow": null,
            "grid_auto_rows": null,
            "grid_column": null,
            "grid_gap": null,
            "grid_row": null,
            "grid_template_areas": null,
            "grid_template_columns": null,
            "grid_template_rows": null,
            "height": null,
            "justify_content": null,
            "justify_items": null,
            "left": null,
            "margin": null,
            "max_height": null,
            "max_width": null,
            "min_height": null,
            "min_width": null,
            "object_fit": null,
            "object_position": null,
            "order": null,
            "overflow": null,
            "overflow_x": null,
            "overflow_y": null,
            "padding": null,
            "right": null,
            "top": null,
            "visibility": null,
            "width": null
          }
        },
        "893ec12c7f354c37b220919cb7643637": {
          "model_module": "@jupyter-widgets/controls",
          "model_name": "DescriptionStyleModel",
          "model_module_version": "1.5.0",
          "state": {
            "_model_module": "@jupyter-widgets/controls",
            "_model_module_version": "1.5.0",
            "_model_name": "DescriptionStyleModel",
            "_view_count": null,
            "_view_module": "@jupyter-widgets/base",
            "_view_module_version": "1.2.0",
            "_view_name": "StyleView",
            "description_width": ""
          }
        },
        "fce679bf63b846e4bb1bffe9461e5066": {
          "model_module": "@jupyter-widgets/base",
          "model_name": "LayoutModel",
          "model_module_version": "1.2.0",
          "state": {
            "_model_module": "@jupyter-widgets/base",
            "_model_module_version": "1.2.0",
            "_model_name": "LayoutModel",
            "_view_count": null,
            "_view_module": "@jupyter-widgets/base",
            "_view_module_version": "1.2.0",
            "_view_name": "LayoutView",
            "align_content": null,
            "align_items": null,
            "align_self": null,
            "border": null,
            "bottom": null,
            "display": null,
            "flex": null,
            "flex_flow": null,
            "grid_area": null,
            "grid_auto_columns": null,
            "grid_auto_flow": null,
            "grid_auto_rows": null,
            "grid_column": null,
            "grid_gap": null,
            "grid_row": null,
            "grid_template_areas": null,
            "grid_template_columns": null,
            "grid_template_rows": null,
            "height": null,
            "justify_content": null,
            "justify_items": null,
            "left": null,
            "margin": null,
            "max_height": null,
            "max_width": null,
            "min_height": null,
            "min_width": null,
            "object_fit": null,
            "object_position": null,
            "order": null,
            "overflow": null,
            "overflow_x": null,
            "overflow_y": null,
            "padding": null,
            "right": null,
            "top": null,
            "visibility": null,
            "width": null
          }
        },
        "07b319cb0f2d45bc8ef71558243bd543": {
          "model_module": "@jupyter-widgets/controls",
          "model_name": "ProgressStyleModel",
          "model_module_version": "1.5.0",
          "state": {
            "_model_module": "@jupyter-widgets/controls",
            "_model_module_version": "1.5.0",
            "_model_name": "ProgressStyleModel",
            "_view_count": null,
            "_view_module": "@jupyter-widgets/base",
            "_view_module_version": "1.2.0",
            "_view_name": "StyleView",
            "bar_color": null,
            "description_width": ""
          }
        },
        "7fa9e84c3ab343c6a0482139ac8f51f2": {
          "model_module": "@jupyter-widgets/controls",
          "model_name": "VBoxModel",
          "model_module_version": "1.5.0",
          "state": {
            "_dom_classes": [],
            "_model_module": "@jupyter-widgets/controls",
            "_model_module_version": "1.5.0",
            "_model_name": "VBoxModel",
            "_view_count": null,
            "_view_module": "@jupyter-widgets/controls",
            "_view_module_version": "1.5.0",
            "_view_name": "VBoxView",
            "box_style": "",
            "children": [
              "IPY_MODEL_f50333a6722449f6ab95dd3c4c631c4c",
              "IPY_MODEL_810272f0480c40ee8562b70d4eecc289"
            ],
            "layout": "IPY_MODEL_34dcac2a8a1e4f30b19c6fcb13d9f0ca"
          }
        },
        "f50333a6722449f6ab95dd3c4c631c4c": {
          "model_module": "@jupyter-widgets/controls",
          "model_name": "LabelModel",
          "model_module_version": "1.5.0",
          "state": {
            "_dom_classes": [],
            "_model_module": "@jupyter-widgets/controls",
            "_model_module_version": "1.5.0",
            "_model_name": "LabelModel",
            "_view_count": null,
            "_view_module": "@jupyter-widgets/controls",
            "_view_module_version": "1.5.0",
            "_view_name": "LabelView",
            "description": "",
            "description_tooltip": null,
            "layout": "IPY_MODEL_1e052e56f4e942a7abb8b14da2196f5b",
            "placeholder": "​",
            "style": "IPY_MODEL_59596787461f48f5b93895e8e6c1209f",
            "value": "0.015 MB of 0.015 MB uploaded\r"
          }
        },
        "810272f0480c40ee8562b70d4eecc289": {
          "model_module": "@jupyter-widgets/controls",
          "model_name": "FloatProgressModel",
          "model_module_version": "1.5.0",
          "state": {
            "_dom_classes": [],
            "_model_module": "@jupyter-widgets/controls",
            "_model_module_version": "1.5.0",
            "_model_name": "FloatProgressModel",
            "_view_count": null,
            "_view_module": "@jupyter-widgets/controls",
            "_view_module_version": "1.5.0",
            "_view_name": "ProgressView",
            "bar_style": "",
            "description": "",
            "description_tooltip": null,
            "layout": "IPY_MODEL_246748e0e51c4c3cbe8ca10d5ef42621",
            "max": 1,
            "min": 0,
            "orientation": "horizontal",
            "style": "IPY_MODEL_65c396284817442f92709e0326c6a14b",
            "value": 1
          }
        },
        "34dcac2a8a1e4f30b19c6fcb13d9f0ca": {
          "model_module": "@jupyter-widgets/base",
          "model_name": "LayoutModel",
          "model_module_version": "1.2.0",
          "state": {
            "_model_module": "@jupyter-widgets/base",
            "_model_module_version": "1.2.0",
            "_model_name": "LayoutModel",
            "_view_count": null,
            "_view_module": "@jupyter-widgets/base",
            "_view_module_version": "1.2.0",
            "_view_name": "LayoutView",
            "align_content": null,
            "align_items": null,
            "align_self": null,
            "border": null,
            "bottom": null,
            "display": null,
            "flex": null,
            "flex_flow": null,
            "grid_area": null,
            "grid_auto_columns": null,
            "grid_auto_flow": null,
            "grid_auto_rows": null,
            "grid_column": null,
            "grid_gap": null,
            "grid_row": null,
            "grid_template_areas": null,
            "grid_template_columns": null,
            "grid_template_rows": null,
            "height": null,
            "justify_content": null,
            "justify_items": null,
            "left": null,
            "margin": null,
            "max_height": null,
            "max_width": null,
            "min_height": null,
            "min_width": null,
            "object_fit": null,
            "object_position": null,
            "order": null,
            "overflow": null,
            "overflow_x": null,
            "overflow_y": null,
            "padding": null,
            "right": null,
            "top": null,
            "visibility": null,
            "width": null
          }
        },
        "1e052e56f4e942a7abb8b14da2196f5b": {
          "model_module": "@jupyter-widgets/base",
          "model_name": "LayoutModel",
          "model_module_version": "1.2.0",
          "state": {
            "_model_module": "@jupyter-widgets/base",
            "_model_module_version": "1.2.0",
            "_model_name": "LayoutModel",
            "_view_count": null,
            "_view_module": "@jupyter-widgets/base",
            "_view_module_version": "1.2.0",
            "_view_name": "LayoutView",
            "align_content": null,
            "align_items": null,
            "align_self": null,
            "border": null,
            "bottom": null,
            "display": null,
            "flex": null,
            "flex_flow": null,
            "grid_area": null,
            "grid_auto_columns": null,
            "grid_auto_flow": null,
            "grid_auto_rows": null,
            "grid_column": null,
            "grid_gap": null,
            "grid_row": null,
            "grid_template_areas": null,
            "grid_template_columns": null,
            "grid_template_rows": null,
            "height": null,
            "justify_content": null,
            "justify_items": null,
            "left": null,
            "margin": null,
            "max_height": null,
            "max_width": null,
            "min_height": null,
            "min_width": null,
            "object_fit": null,
            "object_position": null,
            "order": null,
            "overflow": null,
            "overflow_x": null,
            "overflow_y": null,
            "padding": null,
            "right": null,
            "top": null,
            "visibility": null,
            "width": null
          }
        },
        "59596787461f48f5b93895e8e6c1209f": {
          "model_module": "@jupyter-widgets/controls",
          "model_name": "DescriptionStyleModel",
          "model_module_version": "1.5.0",
          "state": {
            "_model_module": "@jupyter-widgets/controls",
            "_model_module_version": "1.5.0",
            "_model_name": "DescriptionStyleModel",
            "_view_count": null,
            "_view_module": "@jupyter-widgets/base",
            "_view_module_version": "1.2.0",
            "_view_name": "StyleView",
            "description_width": ""
          }
        },
        "246748e0e51c4c3cbe8ca10d5ef42621": {
          "model_module": "@jupyter-widgets/base",
          "model_name": "LayoutModel",
          "model_module_version": "1.2.0",
          "state": {
            "_model_module": "@jupyter-widgets/base",
            "_model_module_version": "1.2.0",
            "_model_name": "LayoutModel",
            "_view_count": null,
            "_view_module": "@jupyter-widgets/base",
            "_view_module_version": "1.2.0",
            "_view_name": "LayoutView",
            "align_content": null,
            "align_items": null,
            "align_self": null,
            "border": null,
            "bottom": null,
            "display": null,
            "flex": null,
            "flex_flow": null,
            "grid_area": null,
            "grid_auto_columns": null,
            "grid_auto_flow": null,
            "grid_auto_rows": null,
            "grid_column": null,
            "grid_gap": null,
            "grid_row": null,
            "grid_template_areas": null,
            "grid_template_columns": null,
            "grid_template_rows": null,
            "height": null,
            "justify_content": null,
            "justify_items": null,
            "left": null,
            "margin": null,
            "max_height": null,
            "max_width": null,
            "min_height": null,
            "min_width": null,
            "object_fit": null,
            "object_position": null,
            "order": null,
            "overflow": null,
            "overflow_x": null,
            "overflow_y": null,
            "padding": null,
            "right": null,
            "top": null,
            "visibility": null,
            "width": null
          }
        },
        "65c396284817442f92709e0326c6a14b": {
          "model_module": "@jupyter-widgets/controls",
          "model_name": "ProgressStyleModel",
          "model_module_version": "1.5.0",
          "state": {
            "_model_module": "@jupyter-widgets/controls",
            "_model_module_version": "1.5.0",
            "_model_name": "ProgressStyleModel",
            "_view_count": null,
            "_view_module": "@jupyter-widgets/base",
            "_view_module_version": "1.2.0",
            "_view_name": "StyleView",
            "bar_color": null,
            "description_width": ""
          }
        },
        "9fcbd00328a344c699e75200d314f533": {
          "model_module": "@jupyter-widgets/controls",
          "model_name": "VBoxModel",
          "model_module_version": "1.5.0",
          "state": {
            "_dom_classes": [],
            "_model_module": "@jupyter-widgets/controls",
            "_model_module_version": "1.5.0",
            "_model_name": "VBoxModel",
            "_view_count": null,
            "_view_module": "@jupyter-widgets/controls",
            "_view_module_version": "1.5.0",
            "_view_name": "VBoxView",
            "box_style": "",
            "children": [
              "IPY_MODEL_63ba58f160724c48ae5aeeb3ee5adc40",
              "IPY_MODEL_b63c8a7d476a45f7923fb901efc06d1a"
            ],
            "layout": "IPY_MODEL_05d35876ef2c4d358c1f26766e59da08"
          }
        },
        "63ba58f160724c48ae5aeeb3ee5adc40": {
          "model_module": "@jupyter-widgets/controls",
          "model_name": "LabelModel",
          "model_module_version": "1.5.0",
          "state": {
            "_dom_classes": [],
            "_model_module": "@jupyter-widgets/controls",
            "_model_module_version": "1.5.0",
            "_model_name": "LabelModel",
            "_view_count": null,
            "_view_module": "@jupyter-widgets/controls",
            "_view_module_version": "1.5.0",
            "_view_name": "LabelView",
            "description": "",
            "description_tooltip": null,
            "layout": "IPY_MODEL_2c192ac67931428aab102422f40cceec",
            "placeholder": "​",
            "style": "IPY_MODEL_70e76e9dc573484bb94b8b223b5eaf30",
            "value": "0.015 MB of 0.015 MB uploaded\r"
          }
        },
        "b63c8a7d476a45f7923fb901efc06d1a": {
          "model_module": "@jupyter-widgets/controls",
          "model_name": "FloatProgressModel",
          "model_module_version": "1.5.0",
          "state": {
            "_dom_classes": [],
            "_model_module": "@jupyter-widgets/controls",
            "_model_module_version": "1.5.0",
            "_model_name": "FloatProgressModel",
            "_view_count": null,
            "_view_module": "@jupyter-widgets/controls",
            "_view_module_version": "1.5.0",
            "_view_name": "ProgressView",
            "bar_style": "",
            "description": "",
            "description_tooltip": null,
            "layout": "IPY_MODEL_71eba64999614084903720b0eb20a087",
            "max": 1,
            "min": 0,
            "orientation": "horizontal",
            "style": "IPY_MODEL_5d0f7d24a0af4abf9a1eecc754ee9bde",
            "value": 1
          }
        },
        "05d35876ef2c4d358c1f26766e59da08": {
          "model_module": "@jupyter-widgets/base",
          "model_name": "LayoutModel",
          "model_module_version": "1.2.0",
          "state": {
            "_model_module": "@jupyter-widgets/base",
            "_model_module_version": "1.2.0",
            "_model_name": "LayoutModel",
            "_view_count": null,
            "_view_module": "@jupyter-widgets/base",
            "_view_module_version": "1.2.0",
            "_view_name": "LayoutView",
            "align_content": null,
            "align_items": null,
            "align_self": null,
            "border": null,
            "bottom": null,
            "display": null,
            "flex": null,
            "flex_flow": null,
            "grid_area": null,
            "grid_auto_columns": null,
            "grid_auto_flow": null,
            "grid_auto_rows": null,
            "grid_column": null,
            "grid_gap": null,
            "grid_row": null,
            "grid_template_areas": null,
            "grid_template_columns": null,
            "grid_template_rows": null,
            "height": null,
            "justify_content": null,
            "justify_items": null,
            "left": null,
            "margin": null,
            "max_height": null,
            "max_width": null,
            "min_height": null,
            "min_width": null,
            "object_fit": null,
            "object_position": null,
            "order": null,
            "overflow": null,
            "overflow_x": null,
            "overflow_y": null,
            "padding": null,
            "right": null,
            "top": null,
            "visibility": null,
            "width": null
          }
        },
        "2c192ac67931428aab102422f40cceec": {
          "model_module": "@jupyter-widgets/base",
          "model_name": "LayoutModel",
          "model_module_version": "1.2.0",
          "state": {
            "_model_module": "@jupyter-widgets/base",
            "_model_module_version": "1.2.0",
            "_model_name": "LayoutModel",
            "_view_count": null,
            "_view_module": "@jupyter-widgets/base",
            "_view_module_version": "1.2.0",
            "_view_name": "LayoutView",
            "align_content": null,
            "align_items": null,
            "align_self": null,
            "border": null,
            "bottom": null,
            "display": null,
            "flex": null,
            "flex_flow": null,
            "grid_area": null,
            "grid_auto_columns": null,
            "grid_auto_flow": null,
            "grid_auto_rows": null,
            "grid_column": null,
            "grid_gap": null,
            "grid_row": null,
            "grid_template_areas": null,
            "grid_template_columns": null,
            "grid_template_rows": null,
            "height": null,
            "justify_content": null,
            "justify_items": null,
            "left": null,
            "margin": null,
            "max_height": null,
            "max_width": null,
            "min_height": null,
            "min_width": null,
            "object_fit": null,
            "object_position": null,
            "order": null,
            "overflow": null,
            "overflow_x": null,
            "overflow_y": null,
            "padding": null,
            "right": null,
            "top": null,
            "visibility": null,
            "width": null
          }
        },
        "70e76e9dc573484bb94b8b223b5eaf30": {
          "model_module": "@jupyter-widgets/controls",
          "model_name": "DescriptionStyleModel",
          "model_module_version": "1.5.0",
          "state": {
            "_model_module": "@jupyter-widgets/controls",
            "_model_module_version": "1.5.0",
            "_model_name": "DescriptionStyleModel",
            "_view_count": null,
            "_view_module": "@jupyter-widgets/base",
            "_view_module_version": "1.2.0",
            "_view_name": "StyleView",
            "description_width": ""
          }
        },
        "71eba64999614084903720b0eb20a087": {
          "model_module": "@jupyter-widgets/base",
          "model_name": "LayoutModel",
          "model_module_version": "1.2.0",
          "state": {
            "_model_module": "@jupyter-widgets/base",
            "_model_module_version": "1.2.0",
            "_model_name": "LayoutModel",
            "_view_count": null,
            "_view_module": "@jupyter-widgets/base",
            "_view_module_version": "1.2.0",
            "_view_name": "LayoutView",
            "align_content": null,
            "align_items": null,
            "align_self": null,
            "border": null,
            "bottom": null,
            "display": null,
            "flex": null,
            "flex_flow": null,
            "grid_area": null,
            "grid_auto_columns": null,
            "grid_auto_flow": null,
            "grid_auto_rows": null,
            "grid_column": null,
            "grid_gap": null,
            "grid_row": null,
            "grid_template_areas": null,
            "grid_template_columns": null,
            "grid_template_rows": null,
            "height": null,
            "justify_content": null,
            "justify_items": null,
            "left": null,
            "margin": null,
            "max_height": null,
            "max_width": null,
            "min_height": null,
            "min_width": null,
            "object_fit": null,
            "object_position": null,
            "order": null,
            "overflow": null,
            "overflow_x": null,
            "overflow_y": null,
            "padding": null,
            "right": null,
            "top": null,
            "visibility": null,
            "width": null
          }
        },
        "5d0f7d24a0af4abf9a1eecc754ee9bde": {
          "model_module": "@jupyter-widgets/controls",
          "model_name": "ProgressStyleModel",
          "model_module_version": "1.5.0",
          "state": {
            "_model_module": "@jupyter-widgets/controls",
            "_model_module_version": "1.5.0",
            "_model_name": "ProgressStyleModel",
            "_view_count": null,
            "_view_module": "@jupyter-widgets/base",
            "_view_module_version": "1.2.0",
            "_view_name": "StyleView",
            "bar_color": null,
            "description_width": ""
          }
        },
        "23f2f3501da4437c849bc40e3a217a4c": {
          "model_module": "@jupyter-widgets/controls",
          "model_name": "VBoxModel",
          "model_module_version": "1.5.0",
          "state": {
            "_dom_classes": [],
            "_model_module": "@jupyter-widgets/controls",
            "_model_module_version": "1.5.0",
            "_model_name": "VBoxModel",
            "_view_count": null,
            "_view_module": "@jupyter-widgets/controls",
            "_view_module_version": "1.5.0",
            "_view_name": "VBoxView",
            "box_style": "",
            "children": [
              "IPY_MODEL_7c54159c1c5441a0a42664df16c481e5",
              "IPY_MODEL_ed23d850df694fb7bd7851dc53f85df6"
            ],
            "layout": "IPY_MODEL_33c90a993b684dca82ce85ae97737ff1"
          }
        },
        "7c54159c1c5441a0a42664df16c481e5": {
          "model_module": "@jupyter-widgets/controls",
          "model_name": "LabelModel",
          "model_module_version": "1.5.0",
          "state": {
            "_dom_classes": [],
            "_model_module": "@jupyter-widgets/controls",
            "_model_module_version": "1.5.0",
            "_model_name": "LabelModel",
            "_view_count": null,
            "_view_module": "@jupyter-widgets/controls",
            "_view_module_version": "1.5.0",
            "_view_name": "LabelView",
            "description": "",
            "description_tooltip": null,
            "layout": "IPY_MODEL_b1b14cf784454facb08211dd28ae5999",
            "placeholder": "​",
            "style": "IPY_MODEL_7b7c8d8dcc044006827e5a60eb4708a5",
            "value": "0.015 MB of 0.015 MB uploaded\r"
          }
        },
        "ed23d850df694fb7bd7851dc53f85df6": {
          "model_module": "@jupyter-widgets/controls",
          "model_name": "FloatProgressModel",
          "model_module_version": "1.5.0",
          "state": {
            "_dom_classes": [],
            "_model_module": "@jupyter-widgets/controls",
            "_model_module_version": "1.5.0",
            "_model_name": "FloatProgressModel",
            "_view_count": null,
            "_view_module": "@jupyter-widgets/controls",
            "_view_module_version": "1.5.0",
            "_view_name": "ProgressView",
            "bar_style": "",
            "description": "",
            "description_tooltip": null,
            "layout": "IPY_MODEL_d598e1b2fc384b518637fdcc018d854b",
            "max": 1,
            "min": 0,
            "orientation": "horizontal",
            "style": "IPY_MODEL_b0693f98e9c44429b1b391bd8a95ebd2",
            "value": 1
          }
        },
        "33c90a993b684dca82ce85ae97737ff1": {
          "model_module": "@jupyter-widgets/base",
          "model_name": "LayoutModel",
          "model_module_version": "1.2.0",
          "state": {
            "_model_module": "@jupyter-widgets/base",
            "_model_module_version": "1.2.0",
            "_model_name": "LayoutModel",
            "_view_count": null,
            "_view_module": "@jupyter-widgets/base",
            "_view_module_version": "1.2.0",
            "_view_name": "LayoutView",
            "align_content": null,
            "align_items": null,
            "align_self": null,
            "border": null,
            "bottom": null,
            "display": null,
            "flex": null,
            "flex_flow": null,
            "grid_area": null,
            "grid_auto_columns": null,
            "grid_auto_flow": null,
            "grid_auto_rows": null,
            "grid_column": null,
            "grid_gap": null,
            "grid_row": null,
            "grid_template_areas": null,
            "grid_template_columns": null,
            "grid_template_rows": null,
            "height": null,
            "justify_content": null,
            "justify_items": null,
            "left": null,
            "margin": null,
            "max_height": null,
            "max_width": null,
            "min_height": null,
            "min_width": null,
            "object_fit": null,
            "object_position": null,
            "order": null,
            "overflow": null,
            "overflow_x": null,
            "overflow_y": null,
            "padding": null,
            "right": null,
            "top": null,
            "visibility": null,
            "width": null
          }
        },
        "b1b14cf784454facb08211dd28ae5999": {
          "model_module": "@jupyter-widgets/base",
          "model_name": "LayoutModel",
          "model_module_version": "1.2.0",
          "state": {
            "_model_module": "@jupyter-widgets/base",
            "_model_module_version": "1.2.0",
            "_model_name": "LayoutModel",
            "_view_count": null,
            "_view_module": "@jupyter-widgets/base",
            "_view_module_version": "1.2.0",
            "_view_name": "LayoutView",
            "align_content": null,
            "align_items": null,
            "align_self": null,
            "border": null,
            "bottom": null,
            "display": null,
            "flex": null,
            "flex_flow": null,
            "grid_area": null,
            "grid_auto_columns": null,
            "grid_auto_flow": null,
            "grid_auto_rows": null,
            "grid_column": null,
            "grid_gap": null,
            "grid_row": null,
            "grid_template_areas": null,
            "grid_template_columns": null,
            "grid_template_rows": null,
            "height": null,
            "justify_content": null,
            "justify_items": null,
            "left": null,
            "margin": null,
            "max_height": null,
            "max_width": null,
            "min_height": null,
            "min_width": null,
            "object_fit": null,
            "object_position": null,
            "order": null,
            "overflow": null,
            "overflow_x": null,
            "overflow_y": null,
            "padding": null,
            "right": null,
            "top": null,
            "visibility": null,
            "width": null
          }
        },
        "7b7c8d8dcc044006827e5a60eb4708a5": {
          "model_module": "@jupyter-widgets/controls",
          "model_name": "DescriptionStyleModel",
          "model_module_version": "1.5.0",
          "state": {
            "_model_module": "@jupyter-widgets/controls",
            "_model_module_version": "1.5.0",
            "_model_name": "DescriptionStyleModel",
            "_view_count": null,
            "_view_module": "@jupyter-widgets/base",
            "_view_module_version": "1.2.0",
            "_view_name": "StyleView",
            "description_width": ""
          }
        },
        "d598e1b2fc384b518637fdcc018d854b": {
          "model_module": "@jupyter-widgets/base",
          "model_name": "LayoutModel",
          "model_module_version": "1.2.0",
          "state": {
            "_model_module": "@jupyter-widgets/base",
            "_model_module_version": "1.2.0",
            "_model_name": "LayoutModel",
            "_view_count": null,
            "_view_module": "@jupyter-widgets/base",
            "_view_module_version": "1.2.0",
            "_view_name": "LayoutView",
            "align_content": null,
            "align_items": null,
            "align_self": null,
            "border": null,
            "bottom": null,
            "display": null,
            "flex": null,
            "flex_flow": null,
            "grid_area": null,
            "grid_auto_columns": null,
            "grid_auto_flow": null,
            "grid_auto_rows": null,
            "grid_column": null,
            "grid_gap": null,
            "grid_row": null,
            "grid_template_areas": null,
            "grid_template_columns": null,
            "grid_template_rows": null,
            "height": null,
            "justify_content": null,
            "justify_items": null,
            "left": null,
            "margin": null,
            "max_height": null,
            "max_width": null,
            "min_height": null,
            "min_width": null,
            "object_fit": null,
            "object_position": null,
            "order": null,
            "overflow": null,
            "overflow_x": null,
            "overflow_y": null,
            "padding": null,
            "right": null,
            "top": null,
            "visibility": null,
            "width": null
          }
        },
        "b0693f98e9c44429b1b391bd8a95ebd2": {
          "model_module": "@jupyter-widgets/controls",
          "model_name": "ProgressStyleModel",
          "model_module_version": "1.5.0",
          "state": {
            "_model_module": "@jupyter-widgets/controls",
            "_model_module_version": "1.5.0",
            "_model_name": "ProgressStyleModel",
            "_view_count": null,
            "_view_module": "@jupyter-widgets/base",
            "_view_module_version": "1.2.0",
            "_view_name": "StyleView",
            "bar_color": null,
            "description_width": ""
          }
        }
      }
    }
  },
  "nbformat": 4,
  "nbformat_minor": 0
}